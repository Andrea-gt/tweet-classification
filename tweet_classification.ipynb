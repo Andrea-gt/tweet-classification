{
  "nbformat": 4,
  "nbformat_minor": 0,
  "metadata": {
    "colab": {
      "provenance": []
    },
    "kernelspec": {
      "name": "python3",
      "display_name": "Python 3"
    },
    "language_info": {
      "name": "python"
    }
  },
  "cells": [
    {
      "cell_type": "markdown",
      "source": [
        "# **Natural Language Processing with Disaster Tweets ⛈**"
      ],
      "metadata": {
        "id": "N9LM35_usH8d"
      }
    },
    {
      "cell_type": "markdown",
      "source": [
        "Lorem ipsum dolor sit amet, consectetur adipiscing elit. Proin semper, sem ut pulvinar pulvinar, est leo pretium sem, vel varius erat orci quis turpis. Aliquam augue orci, semper at mi vel, auctor fermentum ipsum. Nulla hendrerit hendrerit consequat. Vestibulum interdum, dolor id ultricies hendrerit, leo purus dignissim mauris, sit amet maximus nunc mauris eu mi. Quisque hendrerit ante eget pharetra iaculis. Nunc ullamcorper ante quam, non laoreet urna cursus eget. In hac habitasse platea dictumst. Donec ac risus consectetur, euismod magna sit amet, elementum justo. Sed non nisl lacinia, gravida odio ac, vehicula felis. Morbi non accumsan diam. Aenean nibh nunc, pulvinar quis vestibulum ac, tincidunt efficitur nibh. Maecenas vitae molestie leo. Pellentesque varius at felis vitae tristique. Nunc rutrum nisl sagittis velit finibus congue."
      ],
      "metadata": {
        "id": "XEzwnzhhsjCh"
      }
    },
    {
      "cell_type": "markdown",
      "source": [
        "**Authors:**\n",
        "- [Andrea Ramirez](https://github.com/Andrea-gt)\n",
        "- [Adrian Flores](https://github.com/adrianRFlores)"
      ],
      "metadata": {
        "id": "q_jC5FR9sTsO"
      }
    },
    {
      "cell_type": "markdown",
      "source": [
        "***"
      ],
      "metadata": {
        "id": "sGnNhm6-scLp"
      }
    },
    {
      "cell_type": "markdown",
      "source": [
        "## **(1) Import Libraries** ⬇️"
      ],
      "metadata": {
        "id": "X5QxOsI1skVI"
      }
    },
    {
      "cell_type": "code",
      "source": [
        "#!pip install unidecode"
      ],
      "metadata": {
        "id": "gZxx2TueD9PK"
      },
      "execution_count": 1,
      "outputs": []
    },
    {
      "cell_type": "code",
      "execution_count": 37,
      "metadata": {
        "id": "x2NYNwFWr4tK"
      },
      "outputs": [],
      "source": [
        "# Data manipulation and visualization\n",
        "import matplotlib.pyplot as plt\n",
        "import numpy as np\n",
        "import pandas as pd\n",
        "import seaborn as sns\n",
        "from scipy.stats import kurtosis, skew, probplot\n",
        "from sklearn.metrics import mean_absolute_error, mean_squared_error\n",
        "import statsmodels.api as sm\n",
        "from statsmodels.tsa.stattools import adfuller\n",
        "from statsmodels.graphics.tsaplots import plot_acf\n",
        "from statsmodels.tsa.arima.model import ARIMA\n",
        "from statsmodels.graphics.tsaplots import plot_pacf\n",
        "import itertools\n",
        "import re\n",
        "import nltk\n",
        "from nltk.corpus import stopwords\n",
        "from nltk.stem import PorterStemmer\n",
        "from unidecode import unidecode\n",
        "\n",
        "# Standard libraries\n",
        "import warnings\n",
        "warnings.filterwarnings('ignore')\n",
        "\n",
        "# ===== ===== Reproducibility Seed ===== =====\n",
        "# Set a fixed seed for the random number generator for reproducibility\n",
        "random_state = 42\n",
        "\n",
        "# Set matplotlib inline\n",
        "%matplotlib inline\n",
        "\n",
        "# Set default figure size\n",
        "plt.rcParams['figure.figsize'] = (6, 4)\n",
        "\n",
        "# Define custom color palette\n",
        "palette = sns.color_palette(\"viridis\", 12)\n",
        "\n",
        "# Set the style of seaborn\n",
        "sns.set(style=\"whitegrid\")"
      ]
    },
    {
      "cell_type": "markdown",
      "source": [
        "## **(2) Data Upload** 📄"
      ],
      "metadata": {
        "id": "4tiOG7y3s9Z5"
      }
    },
    {
      "cell_type": "code",
      "source": [
        "df = pd.read_csv('data/train.csv')\n",
        "df.head()"
      ],
      "metadata": {
        "colab": {
          "base_uri": "https://localhost:8080/",
          "height": 206
        },
        "id": "XdvjmV7Ws7QM",
        "outputId": "cd81b935-06c6-4527-b3b6-94d409c3b1cc"
      },
      "execution_count": 3,
      "outputs": [
        {
          "output_type": "execute_result",
          "data": {
            "text/plain": [
              "   id keyword location                                               text  \\\n",
              "0   1     NaN      NaN  Our Deeds are the Reason of this #earthquake M...   \n",
              "1   4     NaN      NaN             Forest fire near La Ronge Sask. Canada   \n",
              "2   5     NaN      NaN  All residents asked to 'shelter in place' are ...   \n",
              "3   6     NaN      NaN  13,000 people receive #wildfires evacuation or...   \n",
              "4   7     NaN      NaN  Just got sent this photo from Ruby #Alaska as ...   \n",
              "\n",
              "   target  \n",
              "0       1  \n",
              "1       1  \n",
              "2       1  \n",
              "3       1  \n",
              "4       1  "
            ],
            "text/html": [
              "\n",
              "  <div id=\"df-840b2552-55cd-4714-846c-f79615d6eca0\" class=\"colab-df-container\">\n",
              "    <div>\n",
              "<style scoped>\n",
              "    .dataframe tbody tr th:only-of-type {\n",
              "        vertical-align: middle;\n",
              "    }\n",
              "\n",
              "    .dataframe tbody tr th {\n",
              "        vertical-align: top;\n",
              "    }\n",
              "\n",
              "    .dataframe thead th {\n",
              "        text-align: right;\n",
              "    }\n",
              "</style>\n",
              "<table border=\"1\" class=\"dataframe\">\n",
              "  <thead>\n",
              "    <tr style=\"text-align: right;\">\n",
              "      <th></th>\n",
              "      <th>id</th>\n",
              "      <th>keyword</th>\n",
              "      <th>location</th>\n",
              "      <th>text</th>\n",
              "      <th>target</th>\n",
              "    </tr>\n",
              "  </thead>\n",
              "  <tbody>\n",
              "    <tr>\n",
              "      <th>0</th>\n",
              "      <td>1</td>\n",
              "      <td>NaN</td>\n",
              "      <td>NaN</td>\n",
              "      <td>Our Deeds are the Reason of this #earthquake M...</td>\n",
              "      <td>1</td>\n",
              "    </tr>\n",
              "    <tr>\n",
              "      <th>1</th>\n",
              "      <td>4</td>\n",
              "      <td>NaN</td>\n",
              "      <td>NaN</td>\n",
              "      <td>Forest fire near La Ronge Sask. Canada</td>\n",
              "      <td>1</td>\n",
              "    </tr>\n",
              "    <tr>\n",
              "      <th>2</th>\n",
              "      <td>5</td>\n",
              "      <td>NaN</td>\n",
              "      <td>NaN</td>\n",
              "      <td>All residents asked to 'shelter in place' are ...</td>\n",
              "      <td>1</td>\n",
              "    </tr>\n",
              "    <tr>\n",
              "      <th>3</th>\n",
              "      <td>6</td>\n",
              "      <td>NaN</td>\n",
              "      <td>NaN</td>\n",
              "      <td>13,000 people receive #wildfires evacuation or...</td>\n",
              "      <td>1</td>\n",
              "    </tr>\n",
              "    <tr>\n",
              "      <th>4</th>\n",
              "      <td>7</td>\n",
              "      <td>NaN</td>\n",
              "      <td>NaN</td>\n",
              "      <td>Just got sent this photo from Ruby #Alaska as ...</td>\n",
              "      <td>1</td>\n",
              "    </tr>\n",
              "  </tbody>\n",
              "</table>\n",
              "</div>\n",
              "    <div class=\"colab-df-buttons\">\n",
              "\n",
              "  <div class=\"colab-df-container\">\n",
              "    <button class=\"colab-df-convert\" onclick=\"convertToInteractive('df-840b2552-55cd-4714-846c-f79615d6eca0')\"\n",
              "            title=\"Convert this dataframe to an interactive table.\"\n",
              "            style=\"display:none;\">\n",
              "\n",
              "  <svg xmlns=\"http://www.w3.org/2000/svg\" height=\"24px\" viewBox=\"0 -960 960 960\">\n",
              "    <path d=\"M120-120v-720h720v720H120Zm60-500h600v-160H180v160Zm220 220h160v-160H400v160Zm0 220h160v-160H400v160ZM180-400h160v-160H180v160Zm440 0h160v-160H620v160ZM180-180h160v-160H180v160Zm440 0h160v-160H620v160Z\"/>\n",
              "  </svg>\n",
              "    </button>\n",
              "\n",
              "  <style>\n",
              "    .colab-df-container {\n",
              "      display:flex;\n",
              "      gap: 12px;\n",
              "    }\n",
              "\n",
              "    .colab-df-convert {\n",
              "      background-color: #E8F0FE;\n",
              "      border: none;\n",
              "      border-radius: 50%;\n",
              "      cursor: pointer;\n",
              "      display: none;\n",
              "      fill: #1967D2;\n",
              "      height: 32px;\n",
              "      padding: 0 0 0 0;\n",
              "      width: 32px;\n",
              "    }\n",
              "\n",
              "    .colab-df-convert:hover {\n",
              "      background-color: #E2EBFA;\n",
              "      box-shadow: 0px 1px 2px rgba(60, 64, 67, 0.3), 0px 1px 3px 1px rgba(60, 64, 67, 0.15);\n",
              "      fill: #174EA6;\n",
              "    }\n",
              "\n",
              "    .colab-df-buttons div {\n",
              "      margin-bottom: 4px;\n",
              "    }\n",
              "\n",
              "    [theme=dark] .colab-df-convert {\n",
              "      background-color: #3B4455;\n",
              "      fill: #D2E3FC;\n",
              "    }\n",
              "\n",
              "    [theme=dark] .colab-df-convert:hover {\n",
              "      background-color: #434B5C;\n",
              "      box-shadow: 0px 1px 3px 1px rgba(0, 0, 0, 0.15);\n",
              "      filter: drop-shadow(0px 1px 2px rgba(0, 0, 0, 0.3));\n",
              "      fill: #FFFFFF;\n",
              "    }\n",
              "  </style>\n",
              "\n",
              "    <script>\n",
              "      const buttonEl =\n",
              "        document.querySelector('#df-840b2552-55cd-4714-846c-f79615d6eca0 button.colab-df-convert');\n",
              "      buttonEl.style.display =\n",
              "        google.colab.kernel.accessAllowed ? 'block' : 'none';\n",
              "\n",
              "      async function convertToInteractive(key) {\n",
              "        const element = document.querySelector('#df-840b2552-55cd-4714-846c-f79615d6eca0');\n",
              "        const dataTable =\n",
              "          await google.colab.kernel.invokeFunction('convertToInteractive',\n",
              "                                                    [key], {});\n",
              "        if (!dataTable) return;\n",
              "\n",
              "        const docLinkHtml = 'Like what you see? Visit the ' +\n",
              "          '<a target=\"_blank\" href=https://colab.research.google.com/notebooks/data_table.ipynb>data table notebook</a>'\n",
              "          + ' to learn more about interactive tables.';\n",
              "        element.innerHTML = '';\n",
              "        dataTable['output_type'] = 'display_data';\n",
              "        await google.colab.output.renderOutput(dataTable, element);\n",
              "        const docLink = document.createElement('div');\n",
              "        docLink.innerHTML = docLinkHtml;\n",
              "        element.appendChild(docLink);\n",
              "      }\n",
              "    </script>\n",
              "  </div>\n",
              "\n",
              "\n",
              "<div id=\"df-b654af20-aefa-4a22-bec6-31f3754c879d\">\n",
              "  <button class=\"colab-df-quickchart\" onclick=\"quickchart('df-b654af20-aefa-4a22-bec6-31f3754c879d')\"\n",
              "            title=\"Suggest charts\"\n",
              "            style=\"display:none;\">\n",
              "\n",
              "<svg xmlns=\"http://www.w3.org/2000/svg\" height=\"24px\"viewBox=\"0 0 24 24\"\n",
              "     width=\"24px\">\n",
              "    <g>\n",
              "        <path d=\"M19 3H5c-1.1 0-2 .9-2 2v14c0 1.1.9 2 2 2h14c1.1 0 2-.9 2-2V5c0-1.1-.9-2-2-2zM9 17H7v-7h2v7zm4 0h-2V7h2v10zm4 0h-2v-4h2v4z\"/>\n",
              "    </g>\n",
              "</svg>\n",
              "  </button>\n",
              "\n",
              "<style>\n",
              "  .colab-df-quickchart {\n",
              "      --bg-color: #E8F0FE;\n",
              "      --fill-color: #1967D2;\n",
              "      --hover-bg-color: #E2EBFA;\n",
              "      --hover-fill-color: #174EA6;\n",
              "      --disabled-fill-color: #AAA;\n",
              "      --disabled-bg-color: #DDD;\n",
              "  }\n",
              "\n",
              "  [theme=dark] .colab-df-quickchart {\n",
              "      --bg-color: #3B4455;\n",
              "      --fill-color: #D2E3FC;\n",
              "      --hover-bg-color: #434B5C;\n",
              "      --hover-fill-color: #FFFFFF;\n",
              "      --disabled-bg-color: #3B4455;\n",
              "      --disabled-fill-color: #666;\n",
              "  }\n",
              "\n",
              "  .colab-df-quickchart {\n",
              "    background-color: var(--bg-color);\n",
              "    border: none;\n",
              "    border-radius: 50%;\n",
              "    cursor: pointer;\n",
              "    display: none;\n",
              "    fill: var(--fill-color);\n",
              "    height: 32px;\n",
              "    padding: 0;\n",
              "    width: 32px;\n",
              "  }\n",
              "\n",
              "  .colab-df-quickchart:hover {\n",
              "    background-color: var(--hover-bg-color);\n",
              "    box-shadow: 0 1px 2px rgba(60, 64, 67, 0.3), 0 1px 3px 1px rgba(60, 64, 67, 0.15);\n",
              "    fill: var(--button-hover-fill-color);\n",
              "  }\n",
              "\n",
              "  .colab-df-quickchart-complete:disabled,\n",
              "  .colab-df-quickchart-complete:disabled:hover {\n",
              "    background-color: var(--disabled-bg-color);\n",
              "    fill: var(--disabled-fill-color);\n",
              "    box-shadow: none;\n",
              "  }\n",
              "\n",
              "  .colab-df-spinner {\n",
              "    border: 2px solid var(--fill-color);\n",
              "    border-color: transparent;\n",
              "    border-bottom-color: var(--fill-color);\n",
              "    animation:\n",
              "      spin 1s steps(1) infinite;\n",
              "  }\n",
              "\n",
              "  @keyframes spin {\n",
              "    0% {\n",
              "      border-color: transparent;\n",
              "      border-bottom-color: var(--fill-color);\n",
              "      border-left-color: var(--fill-color);\n",
              "    }\n",
              "    20% {\n",
              "      border-color: transparent;\n",
              "      border-left-color: var(--fill-color);\n",
              "      border-top-color: var(--fill-color);\n",
              "    }\n",
              "    30% {\n",
              "      border-color: transparent;\n",
              "      border-left-color: var(--fill-color);\n",
              "      border-top-color: var(--fill-color);\n",
              "      border-right-color: var(--fill-color);\n",
              "    }\n",
              "    40% {\n",
              "      border-color: transparent;\n",
              "      border-right-color: var(--fill-color);\n",
              "      border-top-color: var(--fill-color);\n",
              "    }\n",
              "    60% {\n",
              "      border-color: transparent;\n",
              "      border-right-color: var(--fill-color);\n",
              "    }\n",
              "    80% {\n",
              "      border-color: transparent;\n",
              "      border-right-color: var(--fill-color);\n",
              "      border-bottom-color: var(--fill-color);\n",
              "    }\n",
              "    90% {\n",
              "      border-color: transparent;\n",
              "      border-bottom-color: var(--fill-color);\n",
              "    }\n",
              "  }\n",
              "</style>\n",
              "\n",
              "  <script>\n",
              "    async function quickchart(key) {\n",
              "      const quickchartButtonEl =\n",
              "        document.querySelector('#' + key + ' button');\n",
              "      quickchartButtonEl.disabled = true;  // To prevent multiple clicks.\n",
              "      quickchartButtonEl.classList.add('colab-df-spinner');\n",
              "      try {\n",
              "        const charts = await google.colab.kernel.invokeFunction(\n",
              "            'suggestCharts', [key], {});\n",
              "      } catch (error) {\n",
              "        console.error('Error during call to suggestCharts:', error);\n",
              "      }\n",
              "      quickchartButtonEl.classList.remove('colab-df-spinner');\n",
              "      quickchartButtonEl.classList.add('colab-df-quickchart-complete');\n",
              "    }\n",
              "    (() => {\n",
              "      let quickchartButtonEl =\n",
              "        document.querySelector('#df-b654af20-aefa-4a22-bec6-31f3754c879d button');\n",
              "      quickchartButtonEl.style.display =\n",
              "        google.colab.kernel.accessAllowed ? 'block' : 'none';\n",
              "    })();\n",
              "  </script>\n",
              "</div>\n",
              "\n",
              "    </div>\n",
              "  </div>\n"
            ],
            "application/vnd.google.colaboratory.intrinsic+json": {
              "type": "dataframe",
              "variable_name": "df",
              "summary": "{\n  \"name\": \"df\",\n  \"rows\": 7613,\n  \"fields\": [\n    {\n      \"column\": \"id\",\n      \"properties\": {\n        \"dtype\": \"number\",\n        \"std\": 3137,\n        \"min\": 1,\n        \"max\": 10873,\n        \"num_unique_values\": 7613,\n        \"samples\": [\n          3796,\n          3185,\n          7769\n        ],\n        \"semantic_type\": \"\",\n        \"description\": \"\"\n      }\n    },\n    {\n      \"column\": \"keyword\",\n      \"properties\": {\n        \"dtype\": \"category\",\n        \"num_unique_values\": 221,\n        \"samples\": [\n          \"injury\",\n          \"nuclear%20reactor\",\n          \"engulfed\"\n        ],\n        \"semantic_type\": \"\",\n        \"description\": \"\"\n      }\n    },\n    {\n      \"column\": \"location\",\n      \"properties\": {\n        \"dtype\": \"category\",\n        \"num_unique_values\": 3341,\n        \"samples\": [\n          \"Oklahoma\",\n          \"Starling City\",\n          \"Trinidad and Tobago\"\n        ],\n        \"semantic_type\": \"\",\n        \"description\": \"\"\n      }\n    },\n    {\n      \"column\": \"text\",\n      \"properties\": {\n        \"dtype\": \"string\",\n        \"num_unique_values\": 7503,\n        \"samples\": [\n          \"Three Homes Demolished in Unrecognized Arab Village - International Middle East Media Center http://t.co/ik8m4Yi9T4\",\n          \"Reid Lake fire prompts campground evacuation order http://t.co/jBODKM6rBU\",\n          \"FAAN orders evacuation of abandoned aircraft at MMA http://t.co/dEvYbnVXGQ via @todayng\"\n        ],\n        \"semantic_type\": \"\",\n        \"description\": \"\"\n      }\n    },\n    {\n      \"column\": \"target\",\n      \"properties\": {\n        \"dtype\": \"number\",\n        \"std\": 0,\n        \"min\": 0,\n        \"max\": 1,\n        \"num_unique_values\": 2,\n        \"samples\": [\n          0,\n          1\n        ],\n        \"semantic_type\": \"\",\n        \"description\": \"\"\n      }\n    }\n  ]\n}"
            }
          },
          "metadata": {},
          "execution_count": 3
        }
      ]
    },
    {
      "cell_type": "markdown",
      "source": [
        "## **(3) Exploratory Analysis** 🔎"
      ],
      "metadata": {
        "id": "NCuBbjcatPpq"
      }
    },
    {
      "cell_type": "markdown",
      "source": [
        "### **(1) Descripción General de los Datos**"
      ],
      "metadata": {
        "id": "CcgsVes9vEic"
      }
    },
    {
      "cell_type": "code",
      "source": [
        "# Print the number of records in the DataFrame\n",
        "print(\"The given dataset has\", df.shape[0], \"registers and\", df.shape[1], \"columns.\")"
      ],
      "metadata": {
        "colab": {
          "base_uri": "https://localhost:8080/"
        },
        "id": "99alb-YetMwG",
        "outputId": "b16f7a1f-1acf-4fc7-eebe-cbd4711325d0"
      },
      "execution_count": 4,
      "outputs": [
        {
          "output_type": "stream",
          "name": "stdout",
          "text": [
            "The given dataset has 7613 registers and 5 columns.\n"
          ]
        }
      ]
    },
    {
      "cell_type": "markdown",
      "source": [
        "**Observaciones 💡 -->**"
      ],
      "metadata": {
        "id": "E6WTPUnCtW9j"
      }
    },
    {
      "cell_type": "markdown",
      "source": [
        "> - El conjunto de datos original cuenta con 7613 registros y 5 columnas, lo que indica que tiene una dimensión relativamente pequeña. Cada uno de los 7613 registros representa una observación única, mientras que las 5 columnas corresponden a diferentes características o variables medidas para cada observación, incluyendo el texto de un tweet, una palabra clave asociada y la ubicación desde donde se envió, aunque estas últimas dos pueden estar en blanco en algunas ocasiones.\n",
        "\n",
        "**Fuente:** [Página oficial de Kaggle](https://www.kaggle.com/competitions/nlp-getting-started/data?select=train.csv)"
      ],
      "metadata": {
        "id": "IuyQOccguBoF"
      }
    },
    {
      "cell_type": "code",
      "source": [
        "# Basic information about the dataset\n",
        "df.info()"
      ],
      "metadata": {
        "colab": {
          "base_uri": "https://localhost:8080/"
        },
        "id": "setsXYbstXOb",
        "outputId": "b43a2cef-f396-4536-ca64-efeaa15a69f6"
      },
      "execution_count": 5,
      "outputs": [
        {
          "output_type": "stream",
          "name": "stdout",
          "text": [
            "<class 'pandas.core.frame.DataFrame'>\n",
            "RangeIndex: 7613 entries, 0 to 7612\n",
            "Data columns (total 5 columns):\n",
            " #   Column    Non-Null Count  Dtype \n",
            "---  ------    --------------  ----- \n",
            " 0   id        7613 non-null   int64 \n",
            " 1   keyword   7552 non-null   object\n",
            " 2   location  5080 non-null   object\n",
            " 3   text      7613 non-null   object\n",
            " 4   target    7613 non-null   int64 \n",
            "dtypes: int64(2), object(3)\n",
            "memory usage: 297.5+ KB\n"
          ]
        }
      ]
    },
    {
      "cell_type": "markdown",
      "source": [
        "Como se puede observar, se cuentan con 5 columnas o features en este conjunto de datos, siendo estas las que se describen a continuación.\n",
        "\n",
        "- **id**: un identificador único para cada tweet.\n",
        "- **text**: el texto del tweet.\n",
        "- **location**: la ubicación desde donde se envió el tweet (puede estar en blanco).\n",
        "- **keyword**: una palabra clave particular del tweet (puede estar en blanco).\n",
        "- **target**: en el archivo `train.csv` solamente, indica si un tweet es sobre un desastre real (`1`) o no (`0`)."
      ],
      "metadata": {
        "id": "q9K0yVGhurKq"
      }
    },
    {
      "cell_type": "markdown",
      "source": [
        "### **(2) Clasificación de las Variables**"
      ],
      "metadata": {
        "id": "fAfdyoDvvAj0"
      }
    },
    {
      "cell_type": "markdown",
      "source": [
        "| **Nombre**    | **Descripción**                                             | **Tipo de variable**                     |\n",
        "|---------------|-------------------------------------------------------------|------------------------------------------|\n",
        "| **id**        | Un identificador único para cada tweet                      | Cuantitativa                             |\n",
        "| **text**      | El texto del tweet                                          | Cualitativa (descriptiva)                |\n",
        "| **location**  | La ubicación desde donde se envió el tweet                  | Cualitativa (descriptiva)                |\n",
        "| **keyword**   | Una palabra clave particular del tweet                      | Cualitativa (descriptiva)                |\n",
        "| **target**    | Indica si un tweet es sobre un desastre real o no           | Cualitativa (binaria)                    |"
      ],
      "metadata": {
        "id": "eIMGpDKevUxe"
      }
    },
    {
      "cell_type": "markdown",
      "source": [
        "**Observaciones 💡 -->**"
      ],
      "metadata": {
        "id": "6pwtYuICvqLV"
      }
    },
    {
      "cell_type": "markdown",
      "source": [
        "> - El conjunto de datos posee 3 variables cualitativas descriptivas y 1 de tipo binaria.\n",
        "> - La última variable del conjunto de datos (id) es de tipo cuantitativo."
      ],
      "metadata": {
        "id": "7Aof5_0mvqoF"
      }
    },
    {
      "cell_type": "markdown",
      "source": [
        "### **(3) Exploración y Limpieza Inicial de los Datos**"
      ],
      "metadata": {
        "id": "mBnYap4rwAB9"
      }
    },
    {
      "cell_type": "markdown",
      "source": [
        "#### **(1) Preprocesamiento de los Datos**"
      ],
      "metadata": {
        "id": "tRTaGCsd-zA3"
      }
    },
    {
      "cell_type": "code",
      "source": [
        "df.drop(columns=['id'], inplace=True)"
      ],
      "metadata": {
        "id": "tAt0ltErBDbP"
      },
      "execution_count": 6,
      "outputs": []
    },
    {
      "cell_type": "code",
      "source": [
        "# Download the NLTK stopwords if not already available\n",
        "nltk.download('stopwords')\n",
        "# Initialize the PorterStemmer\n",
        "stemmer = PorterStemmer()"
      ],
      "metadata": {
        "colab": {
          "base_uri": "https://localhost:8080/"
        },
        "id": "HcY-E1d6DgXQ",
        "outputId": "c7af5cf5-f38a-4471-830d-31101dd1d7c3"
      },
      "execution_count": 7,
      "outputs": [
        {
          "output_type": "stream",
          "name": "stderr",
          "text": [
            "[nltk_data] Downloading package stopwords to /root/nltk_data...\n",
            "[nltk_data]   Package stopwords is already up-to-date!\n"
          ]
        }
      ]
    },
    {
      "cell_type": "code",
      "source": [
        "# Get the list of stopwords from NLTK\n",
        "stop_words = set(stopwords.words('english'))"
      ],
      "metadata": {
        "id": "QGRNdJOLDi_p"
      },
      "execution_count": 8,
      "outputs": []
    },
    {
      "cell_type": "code",
      "source": [
        "# Function to remove stopwords and apply stemming\n",
        "def preprocess_text(text):\n",
        "    # Tokenize the text\n",
        "    words = text.split()\n",
        "    # Remove stopwords and apply stemming\n",
        "    processed_words = [stemmer.stem(word) for word in words if word not in stop_words]\n",
        "    # Reassemble the text\n",
        "    return ' '.join(processed_words)"
      ],
      "metadata": {
        "id": "PpBl5wyvDY3g"
      },
      "execution_count": 9,
      "outputs": []
    },
    {
      "cell_type": "code",
      "source": [
        "# Convert all entries to strings\n",
        "df['text'] = df['text'].astype(str)\n",
        "# Remove URLs\n",
        "df['text'] = df['text'].str.replace(r'http\\S+|www\\S+|https\\S+', '', case=False, regex=True)\n",
        "# Convert to lowercase\n",
        "df['text'] = df['text'].str.lower()\n",
        "# Remove leading/trailing whitespaces\n",
        "df['text'] = df['text'].str.strip()\n",
        "# Remove special characters and punctuation (keeping letters, numbers, and spaces)\n",
        "df['text'] = df['text'].str.replace(r'[^\\w\\s]', '', regex=True)\n",
        "# Remove extra spaces\n",
        "df['text'] = df['text'].str.replace(r'\\s+', ' ', regex=True)\n",
        "# Apply preprocessing (stopwords removal and stemming)\n",
        "df['text'] = df['text'].apply(preprocess_text)"
      ],
      "metadata": {
        "id": "hT30vQ1sBZrw"
      },
      "execution_count": 10,
      "outputs": []
    },
    {
      "cell_type": "code",
      "source": [
        "df.isnull().sum()"
      ],
      "metadata": {
        "colab": {
          "base_uri": "https://localhost:8080/",
          "height": 210
        },
        "id": "ytCCddUOlm0L",
        "outputId": "89854dc7-371d-4761-db54-4e8d5d76d5e3"
      },
      "execution_count": 11,
      "outputs": [
        {
          "output_type": "execute_result",
          "data": {
            "text/plain": [
              "keyword       61\n",
              "location    2533\n",
              "text           0\n",
              "target         0\n",
              "dtype: int64"
            ],
            "text/html": [
              "<div>\n",
              "<style scoped>\n",
              "    .dataframe tbody tr th:only-of-type {\n",
              "        vertical-align: middle;\n",
              "    }\n",
              "\n",
              "    .dataframe tbody tr th {\n",
              "        vertical-align: top;\n",
              "    }\n",
              "\n",
              "    .dataframe thead th {\n",
              "        text-align: right;\n",
              "    }\n",
              "</style>\n",
              "<table border=\"1\" class=\"dataframe\">\n",
              "  <thead>\n",
              "    <tr style=\"text-align: right;\">\n",
              "      <th></th>\n",
              "      <th>0</th>\n",
              "    </tr>\n",
              "  </thead>\n",
              "  <tbody>\n",
              "    <tr>\n",
              "      <th>keyword</th>\n",
              "      <td>61</td>\n",
              "    </tr>\n",
              "    <tr>\n",
              "      <th>location</th>\n",
              "      <td>2533</td>\n",
              "    </tr>\n",
              "    <tr>\n",
              "      <th>text</th>\n",
              "      <td>0</td>\n",
              "    </tr>\n",
              "    <tr>\n",
              "      <th>target</th>\n",
              "      <td>0</td>\n",
              "    </tr>\n",
              "  </tbody>\n",
              "</table>\n",
              "</div><br><label><b>dtype:</b> int64</label>"
            ]
          },
          "metadata": {},
          "execution_count": 11
        }
      ]
    },
    {
      "cell_type": "code",
      "source": [
        "# Converting the column to a list\n",
        "column_to_list = df['location'].unique().tolist()\n",
        "# Convert all elements to strings to avoid TypeError\n",
        "column_to_list_str = [str(location) for location in column_to_list]\n",
        "\n",
        "# === WARNING ====\n",
        "# The detailed listing of unique locations has been commented out to maintain a clean notebook interface.\n",
        "# If a comprehensive view is required, please uncomment the following lines:\n",
        "# print(\"Unique Locations:\")\n",
        "# print(\", \".join(column_to_list_str))\n",
        "\n",
        "print(f\"\\nTotal number of unique locations: {len(column_to_list_str)}\")"
      ],
      "metadata": {
        "colab": {
          "base_uri": "https://localhost:8080/"
        },
        "id": "qinNeP9SXhb-",
        "outputId": "aebe798a-b2b8-40ea-f8a0-8038989981ca"
      },
      "execution_count": 12,
      "outputs": [
        {
          "output_type": "stream",
          "name": "stdout",
          "text": [
            "\n",
            "Total number of unique locations: 3342\n"
          ]
        }
      ]
    },
    {
      "cell_type": "code",
      "source": [
        "df = df.drop(['location'],axis=1)"
      ],
      "metadata": {
        "id": "B9LCLX6_lt5s"
      },
      "execution_count": 13,
      "outputs": []
    },
    {
      "cell_type": "code",
      "source": [
        "# Drop rows where 'keyword' column has NaN values\n",
        "df = df.dropna(subset=['keyword'])"
      ],
      "metadata": {
        "id": "s2BkqALtc3tU"
      },
      "execution_count": 14,
      "outputs": []
    },
    {
      "cell_type": "code",
      "source": [
        "# Check duplicate rows in dataset\n",
        "df = df.drop_duplicates()\n",
        "# Print the number of records in the DataFrame\n",
        "print(\"The given dataset has\", df.shape[0], \"registers and\", df.shape[1], \"columns.\")"
      ],
      "metadata": {
        "colab": {
          "base_uri": "https://localhost:8080/"
        },
        "id": "-5WetphX_ag8",
        "outputId": "35242634-901f-4be0-a79b-a8bb10c1216c"
      },
      "execution_count": 15,
      "outputs": [
        {
          "output_type": "stream",
          "name": "stdout",
          "text": [
            "The given dataset has 6940 registers and 3 columns.\n"
          ]
        }
      ]
    },
    {
      "cell_type": "markdown",
      "source": [
        "**Observaciones 💡 -->**"
      ],
      "metadata": {
        "id": "3PWohK8wjado"
      }
    },
    {
      "cell_type": "markdown",
      "source": [
        "> - Primero eliminaremos la columna `id`, ya que no aporta información significativa al conjunto de datos. Dado que cada registro corresponde a una observación única, esta columna no contribuye a la variabilidad o al análisis. Al eliminarla, reducimos la dimensionalidad, lo que puede mejorar la eficiencia de nuestro algoritmo y simplificar la interpretación posterior de este."
      ],
      "metadata": {
        "id": "ceMyJ4FXja_c"
      }
    },
    {
      "cell_type": "markdown",
      "source": [
        "> - Continuamos el preprocesamiento con dos pasos cruciales para optimizar el análisis de texto: la aplicación de un stemmer y la eliminación de stopwords (o palabras vacías)."
      ],
      "metadata": {
        "id": "CJmfht5QYxPI"
      }
    },
    {
      "cell_type": "markdown",
      "source": [
        "\n",
        "> - Continúa el preprocesamiento con la realización de varias transformaciones para limpiar y estandarizar el texto en la columna text. Primero, convertimos todas las entradas a cadenas de texto para asegurar la consistencia en el tipo de dato. A continuación, eliminamos URLs, que suelen introducir ruido sin aportar valor al análisis. También convertimos el texto a minúsculas y eliminamos los espacios en blanco al inicio y al final de las cadenas para mantener uniformidad. Luego, removemos caracteres especiales y signos de puntuación, dejando solo letras, números y espacios, lo que facilita el análisis posterior. Además, eliminamos espacios extra y normalizamos el texto quitando acentos.\n",
        "\n",
        "> - La columna location presenta una cantidad considerable de datos faltantes, aproximadamente un 33% de las entradas son nulas. Además, estas ausencias no son uniformes, ya que algunas se representan con símbolos como '???' o contienen caracteres especiales que complican aún más su interpretación debido a que son entradas escritas por usuarios. Esta falta de consistencia en los datos, sumada al hecho de que la variable de ubicación podría introducir sesgos significativos en el modelo, nos lleva a concluir que es mejor eliminar esta columna.\n",
        "\n",
        "> - Seguidamente se realiza imputaciones en la columna `keyword` al eliminar las entradas nulas, esto se justifica con el hecho de que estas entradas representan únicamente alrededor de un 0.9% de nuestros datos.\n",
        "\n",
        "> - Como último paso del preprocesamiento, filtramos los valores duplicados en el conjunto de datos. Al eliminar duplicados, aseguramos que cada registro sea único, lo que mejora la integridad de los datos y optimiza la precisión del modelo al trabajar con un conjunto no redundante."
      ],
      "metadata": {
        "id": "KImIzJY4Y0kZ"
      }
    },
    {
      "cell_type": "markdown",
      "source": [
        "**Nota:**\n",
        "\n",
        "  1.   El **stemmer** reduce las palabras a su raíz o forma básica, lo que permite agrupar diferentes variaciones de una misma palabra bajo una única representación. Esto no solo disminuye la dimensionalidad del conjunto de datos haciendo que sea más fácil procesar este, sino que también mejora la capacidad de los algoritmos para identificar patrones relevantes en el texto. [[Referencia]](https://www.geeksforgeeks.org/introduction-to-stemming/)\n",
        "\n",
        "  2.   Por otro lado, la eliminación de **stopwords** filtra palabras comunes que, aunque frecuentes, aportan poco valor semántico al análisis, como \"y\", \"el\", \"en\", entre otras. Al excluir estas palabras, se enfoca el modelo en términos más significativos, lo que puede resultar en una mejora notable en la precisión y eficiencia del análisis textual. Sin embargo, el beneficio más grande es la reducción de dimensionalidad, permitiendo que el entrenamiento sea más rápido. [[Referencia]](https://towardsdatascience.com/text-pre-processing-stop-words-removal-using-different-libraries-f20bac19929a)"
      ],
      "metadata": {
        "id": "TWLvGawUY-SI"
      }
    },
    {
      "cell_type": "markdown",
      "source": [
        "#### **(2) Exploración de los Datos**"
      ],
      "metadata": {
        "id": "pH32JTVm_U6l"
      }
    },
    {
      "cell_type": "code",
      "source": [
        "# Calculate the length of text entries in the 'text' column.\n",
        "length = df[\"text\"].apply(len)\n",
        "# Display descriptive statistics of text lengths.\n",
        "print(\"Training Set: Text Length Statistics\")\n",
        "print(length.describe())"
      ],
      "metadata": {
        "colab": {
          "base_uri": "https://localhost:8080/"
        },
        "id": "xJEpH9RKwC_q",
        "outputId": "d3b79115-acab-4a97-9592-22700e75241f"
      },
      "execution_count": 16,
      "outputs": [
        {
          "output_type": "stream",
          "name": "stdout",
          "text": [
            "Training Set: Text Length Statistics\n",
            "count    6940.000000\n",
            "mean       58.801729\n",
            "std        22.872899\n",
            "min         4.000000\n",
            "25%        42.000000\n",
            "50%        60.000000\n",
            "75%        76.000000\n",
            "max       127.000000\n",
            "Name: text, dtype: float64\n"
          ]
        }
      ]
    },
    {
      "cell_type": "markdown",
      "source": [
        "**Observaciones 💡 -->**"
      ],
      "metadata": {
        "id": "4yXpT2HwlYkL"
      }
    },
    {
      "cell_type": "markdown",
      "source": [
        "> - Este pequeño análisis de la longitud de los textos en el conjunto de datos nos permite descubrir varias características interesantes. Con un total de 7,001 registros, la longitud promedio de los textos es de aproximadamente 59 caracteres, lo que indica que la mayoría de las entradas son relativamente cortas. La desviación estándar es de aproximadamente 23 caracteres, lo que sugiere una variabilidad moderada en la longitud de los textos.\n",
        "\n",
        "> - El rango de las longitudes varía significativamente, desde un mínimo de 3 caracteres hasta un máximo de 127 caracteres. El 50% de los textos tienen una longitud de 60 caracteres o menos, con el 25% de los textos por debajo de 41 caracteres y el 75% por debajo de 76 caracteres. Por ende, aunque la mayoría de los textos tienen una longitud similar, hay una presencia de textos mucho más cortos o más largos."
      ],
      "metadata": {
        "id": "4aoFOx6dlZZ8"
      }
    },
    {
      "cell_type": "code",
      "source": [
        "# See what are the 10 most frequent values for each of the dataframe columns\n",
        "for column in df.columns:\n",
        "    frequency_values = df[column].value_counts().head(10)\n",
        "    print(\"Top 10 most frequent values for column '{}':\".format(column))\n",
        "    for index, (value, frequency) in enumerate(frequency_values.items(), start=1):\n",
        "        print(\"{:<5} {:<30} {:<10}\".format(index, value, frequency))\n",
        "    print(\"\\n===============================================\")"
      ],
      "metadata": {
        "colab": {
          "base_uri": "https://localhost:8080/"
        },
        "id": "6LSx7c38-BmL",
        "outputId": "2a2aa66a-7978-4d5a-ecf0-15880f26845a"
      },
      "execution_count": 17,
      "outputs": [
        {
          "output_type": "stream",
          "name": "stdout",
          "text": [
            "Top 10 most frequent values for column 'keyword':\n",
            "1     fatalities                     45        \n",
            "2     deluge                         42        \n",
            "3     armageddon                     42        \n",
            "4     damage                         41        \n",
            "5     harm                           41        \n",
            "6     evacuate                       40        \n",
            "7     fear                           40        \n",
            "8     body%20bags                    40        \n",
            "9     twister                        40        \n",
            "10    siren                          40        \n",
            "\n",
            "===============================================\n",
            "Top 10 most frequent values for column 'text':\n",
            "1     angri woman openli accus nema steal relief materi meant idp angri intern displac wom 2         \n",
            "2     cindi noonancindynoonanheartbreak baltimor riot yahistor undergroundrailraod 2         \n",
            "3     feel like sink low selfimag take quiz 2         \n",
            "4     horribl sink feel youûªv home phone realis 3g whole time 2         \n",
            "5     break obama offici gave muslim terrorist weapon use texa attack 2         \n",
            "6     trafford centr film fan angri odeon cinema evacu follow fals fire alarm 2         \n",
            "7     new evacu order 25 home danger hwi 8 fire near roosevelt wash koin6new 2         \n",
            "8     drunk meal 101 cook your total obliter 2         \n",
            "9     wacko like michelebachman predict world soon obliter burn firey inferno cant accept globalwarm hello 2         \n",
            "10    choke hazard prompt recal kraft chees singl 2         \n",
            "\n",
            "===============================================\n",
            "Top 10 most frequent values for column 'target':\n",
            "1     0                              4105      \n",
            "2     1                              2835      \n",
            "\n",
            "===============================================\n"
          ]
        }
      ]
    },
    {
      "cell_type": "code",
      "source": [
        "# Create a figure with a single subplot\n",
        "fig, ax = plt.subplots(figsize=(6, 4), dpi=100)  # Use subplots() to get the Axes object\n",
        "plt.tight_layout(pad=3.0)  # Add padding around the plot\n",
        "\n",
        "# Calculate target counts and percentages\n",
        "target_counts = df['target'].value_counts()\n",
        "total_count = target_counts.sum()\n",
        "labels = [f'Non-Disaster Tweets ({target_counts[0]/total_count:.1%})',\n",
        "         f'Disaster Tweets ({target_counts[1]/total_count:.1%})']\n",
        "\n",
        "# Define colors from the viridis palette\n",
        "colors = [palette[0], palette[6]]  # Assign specific colors to each slice\n",
        "\n",
        "# Plot pie chart for target distribution with customized colors\n",
        "wedges, texts, autotexts = ax.pie(target_counts, autopct='%1.1f%%', startangle=90, colors=colors, wedgeprops=dict(edgecolor='white'))\n",
        "\n",
        "# Set the title\n",
        "ax.set_title('Target Distribution in Training Set')\n",
        "\n",
        "# Remove the default labels (texts)\n",
        "for text in texts:\n",
        "    text.set_visible(False)\n",
        "for autotext in autotexts:\n",
        "    autotext.set_visible(False)\n",
        "\n",
        "# Add a legend with a specific location and size\n",
        "ax.legend(wedges, labels, title='Target', loc='best', bbox_to_anchor=(1, 0.5), fontsize='small')\n",
        "\n",
        "# Display the plot\n",
        "plt.show()"
      ],
      "metadata": {
        "colab": {
          "base_uri": "https://localhost:8080/",
          "height": 325
        },
        "id": "j8igvyawEmDs",
        "outputId": "ca56479c-7b88-47b8-b857-0a421c59b0db"
      },
      "execution_count": 42,
      "outputs": [
        {
          "output_type": "display_data",
          "data": {
            "text/plain": [
              "<Figure size 600x400 with 1 Axes>"
            ],
            "image/png": "[encoded data removed]"
          },
          "metadata": {}
        }
      ]
    },
    {
      "cell_type": "markdown",
      "source": [
        "**Observaciones 💡 -->**"
      ],
      "metadata": {
        "id": "EFP8XPElbo1F"
      }
    },
    {
      "cell_type": "markdown",
      "source": [
        "> - Como es posible observar, nuestras tablas de frecuencia muestran que el conjunto de datos está desbalanceado en términos de la variable 'target': el **valor 0** (que indica la ausencia de un desastre) aparece con mucha más frecuencia (4105 casos) que el **valor 1** (que indica la presencia de un desastre) con 2835 casos. Este desbalance podría afectar el rendimiento de nuestro modelo pero primero evaluaremos su desempeño antes de tomar decisiones.\n",
        "\n",
        "> -  Para la columna keyword, esta simple tabla de frecuencia no nos dice lo suficiente así que haremos un análisis más profundo."
      ],
      "metadata": {
        "id": "kjjDvk7Rbqmc"
      }
    },
    {
      "cell_type": "code",
      "source": [
        "# Pairing 0's with their most frequent keywords\n",
        "target_0_keywords = df[df['target'] == 0]['keyword'].value_counts().head(10)\n",
        "print(\"Top 10 most frequent keywords for target '0':\")\n",
        "for index, (keyword, frequency) in enumerate(target_0_keywords.items(), start=1):\n",
        "    print(f\"{index:<5} {keyword:<30} {frequency:<10}\")\n",
        "print(\"\\n===============================================\")\n",
        "\n",
        "# Pairing 1's with their most frequent keywords\n",
        "target_1_keywords = df[df['target'] == 1]['keyword'].value_counts().head(10)\n",
        "print(\"Top 10 most frequent keywords for target '1':\")\n",
        "for index, (keyword, frequency) in enumerate(target_1_keywords.items(), start=1):\n",
        "    print(f\"{index:<5} {keyword:<30} {frequency:<10}\")"
      ],
      "metadata": {
        "colab": {
          "base_uri": "https://localhost:8080/"
        },
        "id": "yrH-1AupaTFv",
        "outputId": "559941f8-618b-47cc-d006-a820519f09e0"
      },
      "execution_count": 19,
      "outputs": [
        {
          "output_type": "stream",
          "name": "stdout",
          "text": [
            "Top 10 most frequent keywords for target '0':\n",
            "1     body%20bags                    39        \n",
            "2     harm                           37        \n",
            "3     armageddon                     37        \n",
            "4     deluge                         36        \n",
            "5     ruin                           36        \n",
            "6     wrecked                        36        \n",
            "7     twister                        35        \n",
            "8     fear                           35        \n",
            "9     siren                          35        \n",
            "10    panic                          34        \n",
            "\n",
            "===============================================\n",
            "Top 10 most frequent keywords for target '1':\n",
            "1     evacuated                      31        \n",
            "2     debris                         31        \n",
            "3     earthquake                     30        \n",
            "4     derailment                     29        \n",
            "5     wildfire                       29        \n",
            "6     nuclear%20disaster             28        \n",
            "7     suicide%20bombing              28        \n",
            "8     evacuation                     28        \n",
            "9     buildings%20on%20fire          27        \n",
            "10    mass%20murder                  27        \n"
          ]
        }
      ]
    },
    {
      "cell_type": "code",
      "source": [
        "# Create a figure with increased size for better visual clarity\n",
        "fig = plt.figure(figsize=(6, 4), dpi=100)  # Adjusted figsize for better visual clarity\n",
        "\n",
        "# Group by 'keyword' and calculate mean target values\n",
        "grouped_df = df.groupby('keyword')['target'].transform('mean')\n",
        "\n",
        "# Sort DataFrame by calculated mean target values\n",
        "sorted_df = df.assign(mean_target=grouped_df).sort_values(by='mean_target', ascending=False)\n",
        "\n",
        "# Optional: Display only the top N keywords for better visibility\n",
        "top_n = 20\n",
        "top_keywords = sorted_df['keyword'].value_counts().index[:top_n]\n",
        "filtered_df = sorted_df[sorted_df['keyword'].isin(top_keywords)]\n",
        "\n",
        "# Create a count plot with horizontal bars\n",
        "sns.countplot(y='keyword', hue='target', data=filtered_df, order=top_keywords, palette=colors)\n",
        "\n",
        "# Customize plot appearance\n",
        "plt.tick_params(axis='x', labelsize=12)\n",
        "plt.tick_params(axis='y', labelsize=10)\n",
        "plt.legend(title='Target', loc='upper right')\n",
        "plt.title('Distribution of Target Values by Keyword')\n",
        "\n",
        "# Display the plot\n",
        "plt.show()"
      ],
      "metadata": {
        "colab": {
          "base_uri": "https://localhost:8080/",
          "height": 422
        },
        "id": "fdxrxnd7Czea",
        "outputId": "c8df6f70-6a25-4c53-b5dd-82ce70360676"
      },
      "execution_count": 45,
      "outputs": [
        {
          "output_type": "display_data",
          "data": {
            "text/plain": [
              "<Figure size 600x400 with 1 Axes>"
            ],
            "image/png": "[encoded data removed]"
          },
          "metadata": {}
        }
      ]
    },
    {
      "cell_type": "markdown",
      "source": [
        "**Observaciones 💡 -->**"
      ],
      "metadata": {
        "id": "5JGCKvGKhPPs"
      }
    },
    {
      "cell_type": "markdown",
      "source": [
        "> - Se evidencia que para el target 0, los términos más frecuentes como \"body bags\" \"harm\" y \"armageddon\" están relacionados con eventos graves o de alta magnitud, pero en el contexto de la ausencia de un desastre, estos podrían estar mal clasificados o reflejar un contexto de preocupación general. Por otro lado, para el target 1, palabras como \"evacuated\" \"debris\" y \"earthquake\" se relacionan claramente con eventos de emergencia reales.\n",
        "\n",
        "> - En general, los bigramas o trigramas consisten en obtener los tokens o palabras consecutivas. Esta técnica está más orientadas a aplicaciones como el análisis de sentimientos o la predicción de texto, pero se considera que podría llegar a aplicarse en este contexto. Para esto, no obstante, primero es importante adquirir ¡aún más información acerca de nuestro conjunto de datos! [[Referencia]](https://www.geeksforgeeks.org/generate-bigrams-with-nltk/)"
      ],
      "metadata": {
        "id": "VwHBEF3ihP_O"
      }
    },
    {
      "cell_type": "markdown",
      "source": [
        "#### **(3) Análisis Visual Preliminar de los Datos**"
      ],
      "metadata": {
        "id": "dpbM1cqmAXvy"
      }
    },
    {
      "cell_type": "code",
      "source": [
        "# Converting the column to a list\n",
        "column_to_list = df['keyword'].unique().tolist()\n",
        "# Convert all elements to strings to avoid TypeError\n",
        "column_to_list_str = [str(keyword) for keyword in column_to_list]\n",
        "print(f\"\\nNumber of unique values in keyword = {len(column_to_list_str)}\")"
      ],
      "metadata": {
        "colab": {
          "base_uri": "https://localhost:8080/"
        },
        "id": "sIM3ZpBDAecU",
        "outputId": "75903bc7-2d10-4ab1-adc6-06914c772067"
      },
      "execution_count": 21,
      "outputs": [
        {
          "output_type": "stream",
          "name": "stdout",
          "text": [
            "\n",
            "Number of unique values in keyword = 221\n"
          ]
        }
      ]
    },
    {
      "cell_type": "markdown",
      "source": [
        "##### **(1) Generación de Bigramas**"
      ],
      "metadata": {
        "id": "Fz4wfHFfI0oX"
      }
    },
    {
      "cell_type": "code",
      "source": [],
      "metadata": {
        "id": "ESdNkPjjCC4e"
      },
      "execution_count": 21,
      "outputs": []
    },
    {
      "cell_type": "markdown",
      "source": [
        "##### **(1) Generación de Trigramas**"
      ],
      "metadata": {
        "id": "6KXaOB8LI5a9"
      }
    },
    {
      "cell_type": "code",
      "source": [],
      "metadata": {
        "id": "IuHnFzAAI5F_"
      },
      "execution_count": null,
      "outputs": []
    }
  ]
}