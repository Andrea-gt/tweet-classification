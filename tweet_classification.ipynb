{
  "nbformat": 4,
  "nbformat_minor": 0,
  "metadata": {
    "colab": {
      "provenance": []
    },
    "kernelspec": {
      "name": "python3",
      "display_name": "Python 3"
    },
    "language_info": {
      "name": "python"
    }
  },
  "cells": [
    {
      "cell_type": "markdown",
      "source": [
        "# **Natural Language Processing with Disaster Tweets ⛈**"
      ],
      "metadata": {
        "id": "N9LM35_usH8d"
      }
    },
    {
      "cell_type": "markdown",
      "source": [
        "Lorem ipsum dolor sit amet, consectetur adipiscing elit. Proin semper, sem ut pulvinar pulvinar, est leo pretium sem, vel varius erat orci quis turpis. Aliquam augue orci, semper at mi vel, auctor fermentum ipsum. Nulla hendrerit hendrerit consequat. Vestibulum interdum, dolor id ultricies hendrerit, leo purus dignissim mauris, sit amet maximus nunc mauris eu mi. Quisque hendrerit ante eget pharetra iaculis. Nunc ullamcorper ante quam, non laoreet urna cursus eget. In hac habitasse platea dictumst. Donec ac risus consectetur, euismod magna sit amet, elementum justo. Sed non nisl lacinia, gravida odio ac, vehicula felis. Morbi non accumsan diam. Aenean nibh nunc, pulvinar quis vestibulum ac, tincidunt efficitur nibh. Maecenas vitae molestie leo. Pellentesque varius at felis vitae tristique. Nunc rutrum nisl sagittis velit finibus congue."
      ],
      "metadata": {
        "id": "XEzwnzhhsjCh"
      }
    },
    {
      "cell_type": "markdown",
      "source": [
        "**Authors:**\n",
        "- [Andrea Ramirez](https://github.com/Andrea-gt)\n",
        "- [Adrian Flores](https://github.com/adrianRFlores)"
      ],
      "metadata": {
        "id": "q_jC5FR9sTsO"
      }
    },
    {
      "cell_type": "markdown",
      "source": [
        "***"
      ],
      "metadata": {
        "id": "sGnNhm6-scLp"
      }
    },
    {
      "cell_type": "markdown",
      "source": [
        "## **(1) Import Libraries** ⬇️"
      ],
      "metadata": {
        "id": "X5QxOsI1skVI"
      }
    },
    {
      "cell_type": "code",
      "source": [
        "#!pip install unidecode"
      ],
      "metadata": {
        "id": "gZxx2TueD9PK"
      },
      "execution_count": 1,
      "outputs": []
    },
    {
      "cell_type": "code",
      "execution_count": 2,
      "metadata": {
        "id": "x2NYNwFWr4tK"
      },
      "outputs": [],
      "source": [
        "# Data manipulation and visualization\n",
        "import matplotlib.pyplot as plt\n",
        "import numpy as np\n",
        "import pandas as pd\n",
        "import seaborn as sns\n",
        "from scipy.stats import kurtosis, skew, probplot\n",
        "from sklearn.metrics import mean_absolute_error, mean_squared_error\n",
        "import statsmodels.api as sm\n",
        "from statsmodels.tsa.stattools import adfuller\n",
        "from statsmodels.graphics.tsaplots import plot_acf\n",
        "from statsmodels.tsa.arima.model import ARIMA\n",
        "from statsmodels.graphics.tsaplots import plot_pacf\n",
        "import itertools\n",
        "import re\n",
        "import nltk\n",
        "from nltk.corpus import stopwords\n",
        "from nltk.stem import PorterStemmer\n",
        "from unidecode import unidecode\n",
        "\n",
        "# Standard libraries\n",
        "import warnings\n",
        "warnings.filterwarnings('ignore')\n",
        "\n",
        "# ===== ===== Reproducibility Seed ===== =====\n",
        "# Set a fixed seed for the random number generator for reproducibility\n",
        "random_state = 42\n",
        "\n",
        "# Set matplotlib inline\n",
        "%matplotlib inline\n",
        "\n",
        "# Set default figure size\n",
        "plt.rcParams['figure.figsize'] = (6, 4)\n",
        "\n",
        "# Define custom color palette\n",
        "palette = sns.color_palette(\"viridis\", 12)\n",
        "\n",
        "# Set the style of seaborn\n",
        "sns.set(style=\"whitegrid\")"
      ]
    },
    {
      "cell_type": "markdown",
      "source": [
        "## **(2) Data Upload** 📄"
      ],
      "metadata": {
        "id": "4tiOG7y3s9Z5"
      }
    },
    {
      "cell_type": "code",
      "source": [
        "df = pd.read_csv('data/train.csv')\n",
        "df.head()"
      ],
      "metadata": {
        "colab": {
          "base_uri": "https://localhost:8080/",
          "height": 206
        },
        "id": "XdvjmV7Ws7QM",
        "outputId": "92365861-4cd7-4bae-c14f-4f3e88ac35f0"
      },
      "execution_count": 3,
      "outputs": [
        {
          "output_type": "execute_result",
          "data": {
            "text/plain": [
              "   id keyword location                                               text  \\\n",
              "0   1     NaN      NaN  Our Deeds are the Reason of this #earthquake M...   \n",
              "1   4     NaN      NaN             Forest fire near La Ronge Sask. Canada   \n",
              "2   5     NaN      NaN  All residents asked to 'shelter in place' are ...   \n",
              "3   6     NaN      NaN  13,000 people receive #wildfires evacuation or...   \n",
              "4   7     NaN      NaN  Just got sent this photo from Ruby #Alaska as ...   \n",
              "\n",
              "   target  \n",
              "0       1  \n",
              "1       1  \n",
              "2       1  \n",
              "3       1  \n",
              "4       1  "
            ],
            "text/html": [
              "\n",
              "  <div id=\"df-c64ce796-d033-4df9-b290-0cd4522d076d\" class=\"colab-df-container\">\n",
              "    <div>\n",
              "<style scoped>\n",
              "    .dataframe tbody tr th:only-of-type {\n",
              "        vertical-align: middle;\n",
              "    }\n",
              "\n",
              "    .dataframe tbody tr th {\n",
              "        vertical-align: top;\n",
              "    }\n",
              "\n",
              "    .dataframe thead th {\n",
              "        text-align: right;\n",
              "    }\n",
              "</style>\n",
              "<table border=\"1\" class=\"dataframe\">\n",
              "  <thead>\n",
              "    <tr style=\"text-align: right;\">\n",
              "      <th></th>\n",
              "      <th>id</th>\n",
              "      <th>keyword</th>\n",
              "      <th>location</th>\n",
              "      <th>text</th>\n",
              "      <th>target</th>\n",
              "    </tr>\n",
              "  </thead>\n",
              "  <tbody>\n",
              "    <tr>\n",
              "      <th>0</th>\n",
              "      <td>1</td>\n",
              "      <td>NaN</td>\n",
              "      <td>NaN</td>\n",
              "      <td>Our Deeds are the Reason of this #earthquake M...</td>\n",
              "      <td>1</td>\n",
              "    </tr>\n",
              "    <tr>\n",
              "      <th>1</th>\n",
              "      <td>4</td>\n",
              "      <td>NaN</td>\n",
              "      <td>NaN</td>\n",
              "      <td>Forest fire near La Ronge Sask. Canada</td>\n",
              "      <td>1</td>\n",
              "    </tr>\n",
              "    <tr>\n",
              "      <th>2</th>\n",
              "      <td>5</td>\n",
              "      <td>NaN</td>\n",
              "      <td>NaN</td>\n",
              "      <td>All residents asked to 'shelter in place' are ...</td>\n",
              "      <td>1</td>\n",
              "    </tr>\n",
              "    <tr>\n",
              "      <th>3</th>\n",
              "      <td>6</td>\n",
              "      <td>NaN</td>\n",
              "      <td>NaN</td>\n",
              "      <td>13,000 people receive #wildfires evacuation or...</td>\n",
              "      <td>1</td>\n",
              "    </tr>\n",
              "    <tr>\n",
              "      <th>4</th>\n",
              "      <td>7</td>\n",
              "      <td>NaN</td>\n",
              "      <td>NaN</td>\n",
              "      <td>Just got sent this photo from Ruby #Alaska as ...</td>\n",
              "      <td>1</td>\n",
              "    </tr>\n",
              "  </tbody>\n",
              "</table>\n",
              "</div>\n",
              "    <div class=\"colab-df-buttons\">\n",
              "\n",
              "  <div class=\"colab-df-container\">\n",
              "    <button class=\"colab-df-convert\" onclick=\"convertToInteractive('df-c64ce796-d033-4df9-b290-0cd4522d076d')\"\n",
              "            title=\"Convert this dataframe to an interactive table.\"\n",
              "            style=\"display:none;\">\n",
              "\n",
              "  <svg xmlns=\"http://www.w3.org/2000/svg\" height=\"24px\" viewBox=\"0 -960 960 960\">\n",
              "    <path d=\"M120-120v-720h720v720H120Zm60-500h600v-160H180v160Zm220 220h160v-160H400v160Zm0 220h160v-160H400v160ZM180-400h160v-160H180v160Zm440 0h160v-160H620v160ZM180-180h160v-160H180v160Zm440 0h160v-160H620v160Z\"/>\n",
              "  </svg>\n",
              "    </button>\n",
              "\n",
              "  <style>\n",
              "    .colab-df-container {\n",
              "      display:flex;\n",
              "      gap: 12px;\n",
              "    }\n",
              "\n",
              "    .colab-df-convert {\n",
              "      background-color: #E8F0FE;\n",
              "      border: none;\n",
              "      border-radius: 50%;\n",
              "      cursor: pointer;\n",
              "      display: none;\n",
              "      fill: #1967D2;\n",
              "      height: 32px;\n",
              "      padding: 0 0 0 0;\n",
              "      width: 32px;\n",
              "    }\n",
              "\n",
              "    .colab-df-convert:hover {\n",
              "      background-color: #E2EBFA;\n",
              "      box-shadow: 0px 1px 2px rgba(60, 64, 67, 0.3), 0px 1px 3px 1px rgba(60, 64, 67, 0.15);\n",
              "      fill: #174EA6;\n",
              "    }\n",
              "\n",
              "    .colab-df-buttons div {\n",
              "      margin-bottom: 4px;\n",
              "    }\n",
              "\n",
              "    [theme=dark] .colab-df-convert {\n",
              "      background-color: #3B4455;\n",
              "      fill: #D2E3FC;\n",
              "    }\n",
              "\n",
              "    [theme=dark] .colab-df-convert:hover {\n",
              "      background-color: #434B5C;\n",
              "      box-shadow: 0px 1px 3px 1px rgba(0, 0, 0, 0.15);\n",
              "      filter: drop-shadow(0px 1px 2px rgba(0, 0, 0, 0.3));\n",
              "      fill: #FFFFFF;\n",
              "    }\n",
              "  </style>\n",
              "\n",
              "    <script>\n",
              "      const buttonEl =\n",
              "        document.querySelector('#df-c64ce796-d033-4df9-b290-0cd4522d076d button.colab-df-convert');\n",
              "      buttonEl.style.display =\n",
              "        google.colab.kernel.accessAllowed ? 'block' : 'none';\n",
              "\n",
              "      async function convertToInteractive(key) {\n",
              "        const element = document.querySelector('#df-c64ce796-d033-4df9-b290-0cd4522d076d');\n",
              "        const dataTable =\n",
              "          await google.colab.kernel.invokeFunction('convertToInteractive',\n",
              "                                                    [key], {});\n",
              "        if (!dataTable) return;\n",
              "\n",
              "        const docLinkHtml = 'Like what you see? Visit the ' +\n",
              "          '<a target=\"_blank\" href=https://colab.research.google.com/notebooks/data_table.ipynb>data table notebook</a>'\n",
              "          + ' to learn more about interactive tables.';\n",
              "        element.innerHTML = '';\n",
              "        dataTable['output_type'] = 'display_data';\n",
              "        await google.colab.output.renderOutput(dataTable, element);\n",
              "        const docLink = document.createElement('div');\n",
              "        docLink.innerHTML = docLinkHtml;\n",
              "        element.appendChild(docLink);\n",
              "      }\n",
              "    </script>\n",
              "  </div>\n",
              "\n",
              "\n",
              "<div id=\"df-10194abf-da4e-476a-a3d8-0392bd2a8842\">\n",
              "  <button class=\"colab-df-quickchart\" onclick=\"quickchart('df-10194abf-da4e-476a-a3d8-0392bd2a8842')\"\n",
              "            title=\"Suggest charts\"\n",
              "            style=\"display:none;\">\n",
              "\n",
              "<svg xmlns=\"http://www.w3.org/2000/svg\" height=\"24px\"viewBox=\"0 0 24 24\"\n",
              "     width=\"24px\">\n",
              "    <g>\n",
              "        <path d=\"M19 3H5c-1.1 0-2 .9-2 2v14c0 1.1.9 2 2 2h14c1.1 0 2-.9 2-2V5c0-1.1-.9-2-2-2zM9 17H7v-7h2v7zm4 0h-2V7h2v10zm4 0h-2v-4h2v4z\"/>\n",
              "    </g>\n",
              "</svg>\n",
              "  </button>\n",
              "\n",
              "<style>\n",
              "  .colab-df-quickchart {\n",
              "      --bg-color: #E8F0FE;\n",
              "      --fill-color: #1967D2;\n",
              "      --hover-bg-color: #E2EBFA;\n",
              "      --hover-fill-color: #174EA6;\n",
              "      --disabled-fill-color: #AAA;\n",
              "      --disabled-bg-color: #DDD;\n",
              "  }\n",
              "\n",
              "  [theme=dark] .colab-df-quickchart {\n",
              "      --bg-color: #3B4455;\n",
              "      --fill-color: #D2E3FC;\n",
              "      --hover-bg-color: #434B5C;\n",
              "      --hover-fill-color: #FFFFFF;\n",
              "      --disabled-bg-color: #3B4455;\n",
              "      --disabled-fill-color: #666;\n",
              "  }\n",
              "\n",
              "  .colab-df-quickchart {\n",
              "    background-color: var(--bg-color);\n",
              "    border: none;\n",
              "    border-radius: 50%;\n",
              "    cursor: pointer;\n",
              "    display: none;\n",
              "    fill: var(--fill-color);\n",
              "    height: 32px;\n",
              "    padding: 0;\n",
              "    width: 32px;\n",
              "  }\n",
              "\n",
              "  .colab-df-quickchart:hover {\n",
              "    background-color: var(--hover-bg-color);\n",
              "    box-shadow: 0 1px 2px rgba(60, 64, 67, 0.3), 0 1px 3px 1px rgba(60, 64, 67, 0.15);\n",
              "    fill: var(--button-hover-fill-color);\n",
              "  }\n",
              "\n",
              "  .colab-df-quickchart-complete:disabled,\n",
              "  .colab-df-quickchart-complete:disabled:hover {\n",
              "    background-color: var(--disabled-bg-color);\n",
              "    fill: var(--disabled-fill-color);\n",
              "    box-shadow: none;\n",
              "  }\n",
              "\n",
              "  .colab-df-spinner {\n",
              "    border: 2px solid var(--fill-color);\n",
              "    border-color: transparent;\n",
              "    border-bottom-color: var(--fill-color);\n",
              "    animation:\n",
              "      spin 1s steps(1) infinite;\n",
              "  }\n",
              "\n",
              "  @keyframes spin {\n",
              "    0% {\n",
              "      border-color: transparent;\n",
              "      border-bottom-color: var(--fill-color);\n",
              "      border-left-color: var(--fill-color);\n",
              "    }\n",
              "    20% {\n",
              "      border-color: transparent;\n",
              "      border-left-color: var(--fill-color);\n",
              "      border-top-color: var(--fill-color);\n",
              "    }\n",
              "    30% {\n",
              "      border-color: transparent;\n",
              "      border-left-color: var(--fill-color);\n",
              "      border-top-color: var(--fill-color);\n",
              "      border-right-color: var(--fill-color);\n",
              "    }\n",
              "    40% {\n",
              "      border-color: transparent;\n",
              "      border-right-color: var(--fill-color);\n",
              "      border-top-color: var(--fill-color);\n",
              "    }\n",
              "    60% {\n",
              "      border-color: transparent;\n",
              "      border-right-color: var(--fill-color);\n",
              "    }\n",
              "    80% {\n",
              "      border-color: transparent;\n",
              "      border-right-color: var(--fill-color);\n",
              "      border-bottom-color: var(--fill-color);\n",
              "    }\n",
              "    90% {\n",
              "      border-color: transparent;\n",
              "      border-bottom-color: var(--fill-color);\n",
              "    }\n",
              "  }\n",
              "</style>\n",
              "\n",
              "  <script>\n",
              "    async function quickchart(key) {\n",
              "      const quickchartButtonEl =\n",
              "        document.querySelector('#' + key + ' button');\n",
              "      quickchartButtonEl.disabled = true;  // To prevent multiple clicks.\n",
              "      quickchartButtonEl.classList.add('colab-df-spinner');\n",
              "      try {\n",
              "        const charts = await google.colab.kernel.invokeFunction(\n",
              "            'suggestCharts', [key], {});\n",
              "      } catch (error) {\n",
              "        console.error('Error during call to suggestCharts:', error);\n",
              "      }\n",
              "      quickchartButtonEl.classList.remove('colab-df-spinner');\n",
              "      quickchartButtonEl.classList.add('colab-df-quickchart-complete');\n",
              "    }\n",
              "    (() => {\n",
              "      let quickchartButtonEl =\n",
              "        document.querySelector('#df-10194abf-da4e-476a-a3d8-0392bd2a8842 button');\n",
              "      quickchartButtonEl.style.display =\n",
              "        google.colab.kernel.accessAllowed ? 'block' : 'none';\n",
              "    })();\n",
              "  </script>\n",
              "</div>\n",
              "\n",
              "    </div>\n",
              "  </div>\n"
            ],
            "application/vnd.google.colaboratory.intrinsic+json": {
              "type": "dataframe",
              "variable_name": "df",
              "summary": "{\n  \"name\": \"df\",\n  \"rows\": 7613,\n  \"fields\": [\n    {\n      \"column\": \"id\",\n      \"properties\": {\n        \"dtype\": \"number\",\n        \"std\": 3137,\n        \"min\": 1,\n        \"max\": 10873,\n        \"num_unique_values\": 7613,\n        \"samples\": [\n          3796,\n          3185,\n          7769\n        ],\n        \"semantic_type\": \"\",\n        \"description\": \"\"\n      }\n    },\n    {\n      \"column\": \"keyword\",\n      \"properties\": {\n        \"dtype\": \"category\",\n        \"num_unique_values\": 221,\n        \"samples\": [\n          \"injury\",\n          \"nuclear%20reactor\",\n          \"engulfed\"\n        ],\n        \"semantic_type\": \"\",\n        \"description\": \"\"\n      }\n    },\n    {\n      \"column\": \"location\",\n      \"properties\": {\n        \"dtype\": \"category\",\n        \"num_unique_values\": 3341,\n        \"samples\": [\n          \"Oklahoma\",\n          \"Starling City\",\n          \"Trinidad and Tobago\"\n        ],\n        \"semantic_type\": \"\",\n        \"description\": \"\"\n      }\n    },\n    {\n      \"column\": \"text\",\n      \"properties\": {\n        \"dtype\": \"string\",\n        \"num_unique_values\": 7503,\n        \"samples\": [\n          \"Three Homes Demolished in Unrecognized Arab Village - International Middle East Media Center http://t.co/ik8m4Yi9T4\",\n          \"Reid Lake fire prompts campground evacuation order http://t.co/jBODKM6rBU\",\n          \"FAAN orders evacuation of abandoned aircraft at MMA http://t.co/dEvYbnVXGQ via @todayng\"\n        ],\n        \"semantic_type\": \"\",\n        \"description\": \"\"\n      }\n    },\n    {\n      \"column\": \"target\",\n      \"properties\": {\n        \"dtype\": \"number\",\n        \"std\": 0,\n        \"min\": 0,\n        \"max\": 1,\n        \"num_unique_values\": 2,\n        \"samples\": [\n          0,\n          1\n        ],\n        \"semantic_type\": \"\",\n        \"description\": \"\"\n      }\n    }\n  ]\n}"
            }
          },
          "metadata": {},
          "execution_count": 3
        }
      ]
    },
    {
      "cell_type": "markdown",
      "source": [
        "## **(3) Exploratory Analysis** 🔎"
      ],
      "metadata": {
        "id": "NCuBbjcatPpq"
      }
    },
    {
      "cell_type": "markdown",
      "source": [
        "### **(1) Descripción General de los Datos**"
      ],
      "metadata": {
        "id": "CcgsVes9vEic"
      }
    },
    {
      "cell_type": "code",
      "source": [
        "# Print the number of records in the DataFrame\n",
        "print(\"The given dataset has\", df.shape[0], \"registers and\", df.shape[1], \"columns.\")"
      ],
      "metadata": {
        "colab": {
          "base_uri": "https://localhost:8080/"
        },
        "id": "99alb-YetMwG",
        "outputId": "e66a3041-df1d-4726-d11f-d34ec46b5220"
      },
      "execution_count": 4,
      "outputs": [
        {
          "output_type": "stream",
          "name": "stdout",
          "text": [
            "The given dataset has 7613 registers and 5 columns.\n"
          ]
        }
      ]
    },
    {
      "cell_type": "markdown",
      "source": [
        "**Observaciones 💡 -->**"
      ],
      "metadata": {
        "id": "E6WTPUnCtW9j"
      }
    },
    {
      "cell_type": "markdown",
      "source": [
        "> - El conjunto de datos original cuenta con 7613 registros y 5 columnas, lo que indica que tiene una dimensión relativamente pequeña. Cada uno de los 7613 registros representa una observación única, mientras que las 5 columnas corresponden a diferentes características o variables medidas para cada observación, incluyendo el texto de un tweet, una palabra clave asociada y la ubicación desde donde se envió, aunque estas últimas dos pueden estar en blanco en algunas ocasiones.\n",
        "\n",
        "**Fuente:** [Página oficial de Kaggle](https://www.kaggle.com/competitions/nlp-getting-started/data?select=train.csv)"
      ],
      "metadata": {
        "id": "IuyQOccguBoF"
      }
    },
    {
      "cell_type": "code",
      "source": [
        "# Basic information about the dataset\n",
        "df.info()"
      ],
      "metadata": {
        "colab": {
          "base_uri": "https://localhost:8080/"
        },
        "id": "setsXYbstXOb",
        "outputId": "dcf79400-fd27-472b-8a03-17688647bf84"
      },
      "execution_count": 5,
      "outputs": [
        {
          "output_type": "stream",
          "name": "stdout",
          "text": [
            "<class 'pandas.core.frame.DataFrame'>\n",
            "RangeIndex: 7613 entries, 0 to 7612\n",
            "Data columns (total 5 columns):\n",
            " #   Column    Non-Null Count  Dtype \n",
            "---  ------    --------------  ----- \n",
            " 0   id        7613 non-null   int64 \n",
            " 1   keyword   7552 non-null   object\n",
            " 2   location  5080 non-null   object\n",
            " 3   text      7613 non-null   object\n",
            " 4   target    7613 non-null   int64 \n",
            "dtypes: int64(2), object(3)\n",
            "memory usage: 297.5+ KB\n"
          ]
        }
      ]
    },
    {
      "cell_type": "markdown",
      "source": [
        "Como se puede observar, se cuentan con 5 columnas o features en este conjunto de datos, siendo estas las que se describen a continuación.\n",
        "\n",
        "- **id**: un identificador único para cada tweet.\n",
        "- **text**: el texto del tweet.\n",
        "- **location**: la ubicación desde donde se envió el tweet (puede estar en blanco).\n",
        "- **keyword**: una palabra clave particular del tweet (puede estar en blanco).\n",
        "- **target**: en el archivo `train.csv` solamente, indica si un tweet es sobre un desastre real (`1`) o no (`0`)."
      ],
      "metadata": {
        "id": "q9K0yVGhurKq"
      }
    },
    {
      "cell_type": "markdown",
      "source": [
        "### **(2) Clasificación de las Variables**"
      ],
      "metadata": {
        "id": "fAfdyoDvvAj0"
      }
    },
    {
      "cell_type": "markdown",
      "source": [
        "| **Nombre**    | **Descripción**                                             | **Tipo de variable**                     |\n",
        "|---------------|-------------------------------------------------------------|------------------------------------------|\n",
        "| **id**        | Un identificador único para cada tweet                      | Cuantitativa                             |\n",
        "| **text**      | El texto del tweet                                          | Cualitativa (descriptiva)                |\n",
        "| **location**  | La ubicación desde donde se envió el tweet                  | Cualitativa (descriptiva)                |\n",
        "| **keyword**   | Una palabra clave particular del tweet                      | Cualitativa (descriptiva)                |\n",
        "| **target**    | Indica si un tweet es sobre un desastre real o no           | Cualitativa (binaria)                    |"
      ],
      "metadata": {
        "id": "eIMGpDKevUxe"
      }
    },
    {
      "cell_type": "markdown",
      "source": [
        "**Observaciones 💡 -->**"
      ],
      "metadata": {
        "id": "6pwtYuICvqLV"
      }
    },
    {
      "cell_type": "markdown",
      "source": [
        "> - El conjunto de datos posee 3 variables cualitativas descriptivas y 1 de tipo binaria.\n",
        "> - La última variable del conjunto de datos (id) es de tipo cuantitativo."
      ],
      "metadata": {
        "id": "7Aof5_0mvqoF"
      }
    },
    {
      "cell_type": "markdown",
      "source": [
        "### **(3) Exploración y Limpieza Inicial de los Datos**"
      ],
      "metadata": {
        "id": "mBnYap4rwAB9"
      }
    },
    {
      "cell_type": "markdown",
      "source": [
        "#### **(1) Preprocesamiento de los Datos**"
      ],
      "metadata": {
        "id": "tRTaGCsd-zA3"
      }
    },
    {
      "cell_type": "code",
      "source": [
        "df.drop(columns=['id'], inplace=True)"
      ],
      "metadata": {
        "id": "tAt0ltErBDbP"
      },
      "execution_count": 7,
      "outputs": []
    },
    {
      "cell_type": "code",
      "source": [
        "# Download the NLTK stopwords if not already available\n",
        "nltk.download('stopwords')\n",
        "# Initialize the PorterStemmer\n",
        "stemmer = PorterStemmer()"
      ],
      "metadata": {
        "colab": {
          "base_uri": "https://localhost:8080/"
        },
        "id": "HcY-E1d6DgXQ",
        "outputId": "35b65921-9f64-4a2f-a28a-0b4ab02d541d"
      },
      "execution_count": 8,
      "outputs": [
        {
          "output_type": "stream",
          "name": "stderr",
          "text": [
            "[nltk_data] Downloading package stopwords to /root/nltk_data...\n",
            "[nltk_data]   Package stopwords is already up-to-date!\n"
          ]
        }
      ]
    },
    {
      "cell_type": "code",
      "source": [
        "# Get the list of stopwords from NLTK\n",
        "stop_words = set(stopwords.words('english'))"
      ],
      "metadata": {
        "id": "QGRNdJOLDi_p"
      },
      "execution_count": 9,
      "outputs": []
    },
    {
      "cell_type": "code",
      "source": [
        "# Function to remove stopwords and apply stemming\n",
        "def preprocess_text(text):\n",
        "    # Tokenize the text\n",
        "    words = text.split()\n",
        "    # Remove stopwords and apply stemming\n",
        "    processed_words = [stemmer.stem(word) for word in words if word not in stop_words]\n",
        "    # Reassemble the text\n",
        "    return ' '.join(processed_words)"
      ],
      "metadata": {
        "id": "PpBl5wyvDY3g"
      },
      "execution_count": 10,
      "outputs": []
    },
    {
      "cell_type": "code",
      "source": [
        "# Convert all entries to strings\n",
        "df['text'] = df['text'].astype(str)\n",
        "# Remove URLs\n",
        "df['text'] = df['text'].str.replace(r'http\\S+|www\\S+|https\\S+', '', case=False, regex=True)\n",
        "# Convert to lowercase\n",
        "df['text'] = df['text'].str.lower()\n",
        "# Remove leading/trailing whitespaces\n",
        "df['text'] = df['text'].str.strip()\n",
        "# Remove special characters and punctuation (keeping letters, numbers, and spaces)\n",
        "df['text'] = df['text'].str.replace(r'[^\\w\\s]', '', regex=True)\n",
        "# Remove extra spaces\n",
        "df['text'] = df['text'].str.replace(r'\\s+', ' ', regex=True)\n",
        "# Apply preprocessing (stopwords removal and stemming)\n",
        "df['text'] = df['text'].apply(preprocess_text)"
      ],
      "metadata": {
        "id": "hT30vQ1sBZrw"
      },
      "execution_count": 11,
      "outputs": []
    },
    {
      "cell_type": "code",
      "source": [
        "df.isnull().sum()"
      ],
      "metadata": {
        "colab": {
          "base_uri": "https://localhost:8080/",
          "height": 210
        },
        "id": "ytCCddUOlm0L",
        "outputId": "02a3a7c8-20f4-40ce-a713-d21327c6e1ba"
      },
      "execution_count": 12,
      "outputs": [
        {
          "output_type": "execute_result",
          "data": {
            "text/plain": [
              "keyword       61\n",
              "location    2533\n",
              "text           0\n",
              "target         0\n",
              "dtype: int64"
            ],
            "text/html": [
              "<div>\n",
              "<style scoped>\n",
              "    .dataframe tbody tr th:only-of-type {\n",
              "        vertical-align: middle;\n",
              "    }\n",
              "\n",
              "    .dataframe tbody tr th {\n",
              "        vertical-align: top;\n",
              "    }\n",
              "\n",
              "    .dataframe thead th {\n",
              "        text-align: right;\n",
              "    }\n",
              "</style>\n",
              "<table border=\"1\" class=\"dataframe\">\n",
              "  <thead>\n",
              "    <tr style=\"text-align: right;\">\n",
              "      <th></th>\n",
              "      <th>0</th>\n",
              "    </tr>\n",
              "  </thead>\n",
              "  <tbody>\n",
              "    <tr>\n",
              "      <th>keyword</th>\n",
              "      <td>61</td>\n",
              "    </tr>\n",
              "    <tr>\n",
              "      <th>location</th>\n",
              "      <td>2533</td>\n",
              "    </tr>\n",
              "    <tr>\n",
              "      <th>text</th>\n",
              "      <td>0</td>\n",
              "    </tr>\n",
              "    <tr>\n",
              "      <th>target</th>\n",
              "      <td>0</td>\n",
              "    </tr>\n",
              "  </tbody>\n",
              "</table>\n",
              "</div><br><label><b>dtype:</b> int64</label>"
            ]
          },
          "metadata": {},
          "execution_count": 12
        }
      ]
    },
    {
      "cell_type": "code",
      "source": [
        "# Converting the column to a list\n",
        "column_to_list = df['location'].unique().tolist()\n",
        "# Convert all elements to strings to avoid TypeError\n",
        "column_to_list_str = [str(location) for location in column_to_list]\n",
        "# Pretty print the list and its length\n",
        "print(\"Unique Locations:\")\n",
        "print(\", \".join(column_to_list_str))\n",
        "print(f\"\\nTotal number of unique locations: {len(column_to_list_str)}\")"
      ],
      "metadata": {
        "colab": {
          "base_uri": "https://localhost:8080/"
        },
        "id": "qinNeP9SXhb-",
        "outputId": "fa827aba-5b5c-484c-d409-a0c5e4863e04"
      },
      "execution_count": 13,
      "outputs": [
        {
          "output_type": "stream",
          "name": "stdout",
          "text": [
            "Unique Locations:\n",
            "nan, Birmingham, Est. September 2012 - Bristol, AFRICA, Philadelphia, PA, London, UK, Pretoria, World Wide!!, Paranaque City, Live On Webcam, milky way, GREENSBORO,NORTH CAROLINA, England., Sheffield Township, Ohio, India, Barbados, Anaheim, Abuja, USA, South Africa, Sao Paulo, Brazil, hollywoodland , Edmonton, Alberta - Treaty 6, Inang Pamantasan, Twitter Lockout in progress, Concord, CA, Calgary, AB, San Francisco, CLVLND, Nashville, TN, Santa Clara, CA, UK, St. Louis, MO, Walker County, Alabama, Australia, North Carolina, Norf Carolina, San Mateo County, CA, Njoro, Kenya, Your Sister's Bedroom, Arlington, TX, South Bloomfield, OH, New Hanover County, NC, Maldives, Manchester, NH, Wilmington, NC, global, Alberta | Sask. | Montana, Charlotte, Baton Rouge, LA, Hagerstown, MD, Gloucestershire , UK, Nairobi, Kenya, Instagram - @heyimginog , 304, Switzerland, US, Somewhere Only We Know ?, Belgium, dope show, Oshawa, Canada, Baker City Oregon, United States, marysville ca , Hermosa Beach, CA, 19.600858, -99.047821, Pennsylvania, Salt Lake City, Utah, Palo Alto, CA, Spain but Opa-Locka, FL, Jaipur, India, Hyderabad Telangana INDIA, Eagle Pass, Texas, bangalore, Financial News and Views, Indonesia, y(our) boyfriends legs , New Mexico, USA, Somewhere Out There, Mumbai india, sri lanka, Not a U.S resident, Lehigh Valley, PA, Canada, Thrissur, Havenford, 92, Israel, Fashion Heaven. IG: TMId_, San Francisco, CA, italy, nyc, Toronto, Jackson, New York / Worldwide, New Orleans, LA, West Wales, Happily Married with 2 kids , Cambridge, MA, Arizona , Mumbai, Amsterdam, Swindon,England , Williamstown, VT, North Carolina, USA, Karachi, Loveland Colorado, || c h i c a g o ||, L. A., VISIT MY YOUTUBE CHANNEL., Lexington, Hannover, Germany, Playa, Davidson, NC, Higher Places, Horsemind, MI, New York, NY, Boksburg, V-RP @OZRP_ ?MV, AU, R18+?, Greater Manchester, UK, Boston, The Canopy Kingdom, the own zone layer , London, Trancy Manor, South 37, West Lancashire, UK., PA, Û¢ Views From The Six Û¢, University of Toronto, Swaning Around, Albany/NY, California, USA, Wild Wild Web, Subconscious LA, Spain, CA physically- Boston Strong?, Yeezy Taught Me , NV, Rock Hill, SC, Coolidge, AZ, Republic of Texas, Phoenix, AZ, Ljubljana, Slovenia, Connecticut, Tacoma,Washington, BIG D  HOUSTON/BOSTON/DENVER, Chandler, AZ, ColoRADo, sindria, Texas, Elk Grove, CA, USA, The Shire, Austin, TX, Oakland, Albuquerque, Buenos Aires, Argentina, San Antonio-ish, TX, Oregon, USA, Harlingen, TX, Buffalo NY, Las Vegas, Tokyo, California, United States, #FLIGHTCITY UK  , Alphen aan den Rijn, Holland, Wrigley Field, probably the strip club, England, New York City, Here And There, Rotterdam, Zuid-Holland, Derry, 17 , Nowhere. Everywhere., Florida, USA, Worldwide, East Coast, California, Toronto, ON, The Orwellion police-state, Castaic, CA, Helsinki, Finland, East Kilbride, middle eastern palace, Kent, Perthshire , twitch.tv/naturalemblem26, cyprus, Memphis, TN, Studio, Hollywood, CA, New York, Pakistan, Mexico! ^_^, Campinas Sp, Harlem, New York, Washington, DC, Burbank,CA, ? , Spokane, Washington, Charlotte, NC, Our Empire State, Jerusalem, Kingston, Pennsylvania, Milwaukee, WI, Zero Branco, bajaur, Eldoret, kenya, ÛÊÛÊÛÊ, Miami,FL, Los Angeles, CA, North-East Region, Singapore, Chicago, EARTH , Jerusalem, Israel, Menasha, WI, ss, Atlanta, Earth, Bleak House, heccfidmss@gmail.com, toronto, [ Blonde Bi Fry. ], America, NYC :) Ex- #Islamophobe, SF Bay Area, Orange County, California, Winston Salem, North Carolina, Adelaide, South Australia, WASHINGTON,DC,  snapchat // fvck_casper , Dallas, TX, NYC, Location, Selena | Britney | Hilary, Ireland, Freeport IL. USA, Dubai, Tucson, Az, Seattle WA, Bellevue NE, West Bank, Gaza Strip, Û¢FLGÛ¢, Scotland, United Kingdom, Online 24/7. Not even kidding., rowyso dallas , Halton, Ontario, portland, oregon, FIMAK A.S Ist Bolge Muduru, London., #UNITE THE BLUE  , Dayton, Ohio, Global, ph, Port Jervis, NY, City Of Joy, Texas, USA, 1/3 of the blam squad , CCH , atx, MAURITIUS, AKRON OHIO USA, london / st catharines ?, Peshawar, LEALMAN, FLORIDA, #GDJB #ASOT, Groningen, Netherlands, Europe, Livingston, IL  U.S.A., Arundel , Anna Maria, FL, israel, The Hammock, FL, USA, ??????????????????, SÌ£o Paulo SP,  Brasil, in Dimitri's arms, Oslo, Norway, Los Angeles, Loughton, Essex, UK, guaravitas, Score More Goals Buying @, NEW YORK, London, Kent & SE England., Score Team Goals Buying @, South Central Wales, Jersey City, New Jersey, Denver, CO, Brasil, Buy Give Me My Money , 505 W. Maple, Suite 100, Philippines, Freeport il , World, Danville, VA, UK Great Britain , Jerusalem!, San Jose, CA, Use #TMW in tweets get #RT, Utah, Wisconsin, West Richland, WA, CHICAGO (312), Washington D.C., NC, West Virginia, USA, British girl in Texas, Silver Spring, MD, Atlanta, GA, Manhattan, NY, Wilmington, DE, Memphis, iTunes, Oxford, MS, Pelham, AL, Jacksonville, FL, Arkansas, Jonesboro, Across the Atlantic, Melbourne, Florida, Over the Moon..., Extraterrestrial Highway, Espoo, Finland, Washington, D.C., area, OES 4th Point. sisSTAR & TI, Sydney, New South Wales, Netherlands,Amsterdam-Virtual , Hudson Valley, NY, timeline kamu, Budapest, Hungary, Searching for Bae , Eagle Mountain, Texas , Columbus, Temecula, CA, Atlanta,Ga, Fresno, CA, Raleigh Durham, NC, ducked off . . . , Rio de Janeiro, 302, Columbus, OH, Mo.City, Tripsburg, ms., Durham N.C , Delhi, ARIZONA, Penn Hills, PA, Karachi , seattle wa, SOUTHERN CALIFORNIA DESERT, Gotham City, My contac 27B80F7E 08170156520, Pig Symbol, Alabama, Intramuros, Manila, THE WORLD T.G.G / M.M.M , Between the worlds , State of Georgia, Your screen, Lima-Peru, worldwide, Saltillo, Coahuila de Zaragoza, Suitland, Everywhere, Konoha, Swag Francisco, Saint Marys, GA, Nigeria, Essex/Brighton, Pennsylvania, PA, Rockford, IL, AZ, Vero Beach , FL, IN, In the middle of no where, Baltimore, MD, dmv ?? fashion school @ KSU. , Nice places , Quantico, VA, Island Lake, IL, Live Oak, TX, Gages Lake, IL, Madisonville TN, Basketball City, USA , AEP, Alberta Pack, #expelcl*y, My heart is a ghost town!, The Great State of Texas, Alicante, Valencia, Greensboro, NC,  Indiana, the local dump, Seattle, #SOUTHAMPTON ENGLAND, ?205?478?, Waterford MI, Iowa, USA, va, Florida, california mermaid ? , New York ? ATL, USA/SO FLORIDA via BROOKLYN NY, H / pez & sophia , Brooklyn, NY, Queens, NY, Vancouver, BC., Ottawa, Canada, wherever the $$$ at, Purgatory, USA, Calgary, Alberta, Kama | 18 | France , Sydney, Maryland, USA, Daruka (near Tamworth) NSW, IJmuiden, The Netherlands, University Heights, Ohio, Central Illinois, Baton Rouge, PSN: Pipbois , Colombo,Sri Lanka., Johannesburg, South Africa , Me mammy's belly, UK & Ibiza, Laventillemoorings , Scotland, Vancouver, BC, Cleveland, OH, Detroit, MI, United States, Guelph Ontario Canada, Waterfront, columbus ohio, Waukesha, WI, Himalayan Mountains, Colorado/WorldWide, Ontario Canada, Houston,  TX, lakewood colorado, THE 6IX, Washington, USA, The ?? below ???, Ideally under a big tree, Conversing In Janet's CafÌ¬, ???????, ??'??????, Dime's Palace, Cairo, Egypt, Seattle, WA, Bug Forest, canberra, International, The World, Htx, PunPunlÌ¢ndia, ???, Itirapina, SÌ£o Paulo, North Jersey, Ewa Beach, HI, Biloxi, Mississippi, Buenos Aires, Brecksville, OH, Walthamstow, London, Malaysia, Ivano-Frankivsk, Sunshine Coast, Queensland, England,UK,Europe,Sol 3., Nashua NH, Leicester, 65, Westchester, Lynnfield, MA, Level 3 Garrison, Sector G, Singapore, Glasgow, Shity land of Northern Ireland, Christchurch New Zealand, peekskill. new york, 10566 , PH, Storybrooke , under the blanket, Isolated City In World Perth, Brazil , AUS, Santa Cruz, CA, Inverness, Nova Scotia, L/S/Z/L/T/H/C/H/R/A/S/C, Oklahoma, 801 SL,UT, fluffy cloud, The 5th Dimension. , Georgia, July 11th, 2015. ?, The Grey Area, St Paul, MN, Cobblestone, ÌÏT: 30.307558,-81.403118, Cosmic Oneness, Guildford, UK, Nowhere Islands/Smash Manor, kisumu, Making Worldwide Change Near U, ATX, LA/OC/Vegas, London/Outlaw Country , Grimsby, England, Gotham, Manchester, The World, England, sitting on Eddie Vedders lap,, Missouri, USA, Greenville,SC, Paignton, have car; will travel, ATL ? SEA , ÌÏT: 39.982988,-75.261624, #EngleWood CHICAGO , 302???? 815, New Your, PURPLE BOOTH STUDIOã¢, Cloud 9, Former Yugoslav Republic of Macedonia, 3?3?7?SLOPelousas??2?2?5?, 316, #WhereverI'mAt, Huber Heights, OH, Miami ??, Houston, TX, Every where, 401 livin', MI, EPTX, Austin, Texas, Oklahoma City, CA, United Kingdom, WESTSIDE OF PHILLY 7? BLOCK??, Charlotte NC, LONG ISLAND, NY, washington, d.c., WAISTDEEP, TX, D.C. - Baltimore - Annapolis, #937??#734, Fife, WA, Bushkill pa, In the Shadows..., southwest, Tx, ANYWEHERE !!, Menlo Park. SFO. The World., Speaking the Truth in Love, Aarhus, Central Jutland, Lincoln, NE, wny, Bolton & Tewkesbury, UK, travelling to tae's pants, keli x, Manchester, Knoxville, TN, ChicagoRObotz, whs '17, NV, lagos nigeria, Edmonton, Alberta, [Gia.] | #KardashianEmpire, Sunrise Manor, NV, Oxford, OH, Odawara, Japan, Chicago, IL, Des Moines, IA, Dundas, Ontario, IDN, Netherlands, DaKounty, Pa, DÌ_sseldorf, Germany, Old Blighty, ??, The land of New Jersey. , Atlanta Georgia, MY RTs ARE NOT ENDORSEMENTS, Kabul, Tuebingen, Innsbruck, Light and dark, form and void, Nairobi, Kenya , Erbil, Stockton on tees Teesside UK, Screwston, TX, My old New England home, melbourne, Cape Town, Ikeja, Nigeria, Warwick, RI @Dollarocracy also, texas a&m university, MA, Shipwreck Cove, Sydney, Australia, WorldWide, Overland Park, KS, SWMO, Puerto Rico, Toronto-Citizen of Canada & US, Silicon Valley, North East USA, Washington, D.C., VitÌ_ria (ES), New Delhi, Delhi, Buscame EL tu Melte, Wiltshire, PROUD INDIANS, Mumbai , India, Pittsburgh PA, MUM-DEL, Leeds, England, Playa del Carmen, Mexico, NY, CT & Greece, Mackay, QLD, Australia, Quincy MA, NJ, Madison, GA, KurveZ@GearHeadCentral.net, St Charles, MD, Denver, Colorado, Ziam af , GO BLUE! HAIL YES!!, Outside The Matrix, I Think., In Hell, Epic City, BB., somewhere over a rainbow, Selma2Oakland, Bombardment Bay, Savannah, GA, dallas, New Orleans ,Louisiana, England, United Kingdom, Dublin City, Ireland, New Hampshire, World Wide, Intermountain West, Tulsa, Oklahoma, Auburn, AL, taken by piper curda, Scotland , Nigeria, Global, Fort Walton Beach, Fl, Sweden, Groton, CT, Brisbane Australia, NY Capital District, Peoria, Reading UK, Concord, NH , CORNFIELDS, Worcester, MA, Roanoke, VA, nj, MA via PA, Boston, MA, Oklahoma City, OK, toronto Û¢ dallas, San Diego CA, germany, Massachusetts,  Nxgerxa, Erie, PA, Port Charlotte, FL, Belleville, Illinois, Alabama, Long Island NY & San Francisco, Gainesville, FL, Oakland, CA, 956, Escondido, CA, DC, Chicago Area, Upper St Clair, PA, Cherry Creek Denver CO, 627, Blogland, mumbai, Isle of Man, Hampton Roads, VA, Gameday, Earthling (For now!), Black Canyon New River, AZ, Caracas, Venezuela., NY, Charlottetown, Paradise, NV, ??t?a, LiÌ¬ge, Spokane, Washington 99206, taco bell, Australian Capital Territory, http://www.amazon.com/dp/B00HR, [ kate + they/them + infp-t ], Sacramento, CA, please H? ?:??, we?it Û¢ ixwin, Santiago Bernabeau, y/e/l, Whiterun, Skyrim, Greenpoint, Brooklyn, Victoria, British Columbia, a botanical garden probably, Nelspruit, South Africa, midwest, Copenhagen, Capital Region of Denmark, Spying on your thoughts, seattle grace mercy death, Tucson, Arizona , Charlotte County Florida, Head Office: United Kingdom, Mid north coast of NSW, iPhone: -27.499212,153.011072, Queen Creek AZ, Jamaica, Trinidad and Tobago, Melbourne Australia, The Internet & NYC, London/Bristol/Guildford, Canberra, Australian Capital Territory, beacon hills , somewhere outside, Wolmers Trust School for Boys , Loughborough., Selangor, indiana, Bronx, New York, Canadian bread, Le Moyne '16, Hoxton, London, Las Vegas, NV USA, Heinz Field , Skyport de la Rosa, The Low-Cal Calzone Zone, Brooklyn, New York, 50% Queanbeyan - 50% Sydney, Insula Barataria, everywhere , Afghanistan, USA, Inglewood, CA, Absecon, NJ, Williamsbridge, Bronx, New Yor, Northern Kentucky, USA, Mostly Yuin., Nairobi, Rochelle, GA, London UK, south of heaven , El Dorado, KS, Santa Monica, CA, Kenya, 1648 Queen St. West, Toronto., Toledo, OH, Fairfield, California, Trinity, Bailiwick of Jersey, Virginia, LIVERPOOL, Boulder, CO, Hospital, bc of SKH vid., Hartford  London Hong Kong, In @4SkinChan 's arms, Massachusetts, USA, Kansas City, MO, Wellington, New Zealand, ?? ??, los angeles, ca, New Brunswick, NJ, City of Angels, CA, Morganville, Texas., America | New Zealand , Stockholm, Sweden, Azeroth, Lytham St Anne's , Ylisse, Portugal, All around the world baby, @UntmdOutdoors #T.O.R.K , Lima, PerÌ¼, Piedmont Area, North Carolina, Buxton, Venice, and Nottingham, Quito, Ecuador., Inexpressible Island ,  Bouvet Island, Shirley, NY, Planet Earth, Paonia, Colorado , Portland, OR, Dublin, Ireland, Lurking, N?? Y???., Littleton, CO, USA, Virginia, United States, Center for Domestic Preparedness, Ukraine and Ireland, Welt, Wales, Seattle, Washington, Beaumont, TX, Annapolis, MD, Las Vegas, Nevada, Harris County, Texas, Tyler, TX, Evanston, IL, North Ferriby, East Yorkshire, Colombia, Ames, Iowa, Moscow, Russia, Jersey City, NJ, Mankato, MN, Orbost, Victoria, Australia,  Somewhere.,  Neverland , London, England, At Da Laundry Mat Wit Nivea , norway, $ad $hawty, NY || live easy? , BestCoast, BC, Abuja, Nigeria, Colchester Essex , livin life in the 610, Suplex City, Inside your mind., 36 & 38, Sydney Australia, Lagos, Nigeria, New York, NY , Slappin and Smackin , DRAW A CIRCLE THAT'S THE EARTH, Madrid, Comunidad de Madrid, The Netherlands, Highland Park, CA, Swan River, Kolkata, India, Melrose, Jubail IC, Saudi Arabia, Sugarhouse, UT, lugo, Chicago, Illinois, Blackpool, England, UK., San Jose, California, Fakefams, In the clouds..., Sandton, South Africa, Nigeria , #Bummerville otw, Europe, Brighton and Hove, Pompano Beach, FL, JKT48-Muse-A7X, Behind The Obama Curtain, Worldwide., LiVE MÌS, Henderson, NV, CAMARILLO, CA, manchester, uk., Eugene, Oregon, they/her, Paris , (he/him), Kingston, Jamaica, Spokane, WA, I'm standing behind you, Alexandria, Egypt., instagram- Chloe_Bellx, on the web, San Francisco Bay Area, #ForeverWithBAP 8 , GOT7SupportPH, wherever-the-fuck washington, From NY. In Scranton, PA, Perth, Western Australia, Live mÌÁs, Melton, GA, Greg's place, Viejo, Kansas, The Free State! ~ KC, Silang, Cavite / ParaÌ±aque, Fort Smith, AR, planeta H2o, www.youtube.com?Malkavius2, Michigan, The Forever Girl, EspÌ_rito Santo, New York, USA, Ormond By The Sea, FL, Maryland,Baltimore, Pennsylvania, USA, Houston, Texas, Yadkinville, NC, Medford, NJ, Dallas, Texas. , Roanoke VA, Unnamed City, Peterborough, On, -6.152261,106.775995, @protectingtitan's side., Oregon, Eau Claire, Wisconsin, St. Joseph, Minnesota, From a torn up town MANCHESTER, Waco TX, Tennessee, Cape Cod, Massachusetts USA, bk. , Lansing, Michigan, Peterborough, Ont., Johannesburg, South Africa, On the court , Traverse City, MI, See the barn of bleakness, Hertfordshire , ÌÏT: 41.252426,-96.072013, California , Greeley, CO, 'soooota, Sacramento, Ontario, Canada, NY, NY, Arvada, CO, Maryland, Vancouver, Colombie-Britannique, Irving , Texas, Riverside, CA, SEATTLE, WA USA, USA , AZ, East Atlanta, Georgia, Saint Lucia, Peterborough, Ontario, Canada, Colorado, North Highlands, CA, Vancouver, 60th St (SS), USA, WA, btwn a rock and a hard place, Aix-en-Provence, France, Liverpool, I-75 in Florida, 21.462446,-158.022017, Melbourne, Australia, Darlington,   Melbourne, Australia, Kenton, Ohio, Galatians 2:20 , Charleston, SC, Lancaster, Pennsylvania, USA, In my own world!!!, Definitely NOT the stables, Cuernavaca, Morelos, MÌ©xico., Va Beach, Virginia, 52.479722, 62.184971, The Pig Sty, Bangor, Co.Down, Weston super mare, Victoria, Tx., Pakistan, Islamabad, Gujranwala, Pakistan, Lindenhurst, Islamabad, Somewhere, too far, Kingswinford, i love the smurfs 2, International , Viterbo BFA Acting '18, Kaneohe, Houma La, EastAtlanta ??#WestGeorgia'18, San Antonio, TX, Cleveland, Ohio, San Diego, Texas., GLOBAL, 05/04/2014 18:23 ?, Bolivar, MO, taking pain like pleasure, San Fransokyo, Washington, DC NATIVE, Miami, FL, w. Nykae , honeymoon avenue, Toronto, Worldwide , 11/4/14, wherever there's netflix, #HAMont, U.K., online , Conroe, TX, Ontario, Canada. , Guayaquil, bahstun/porta reeko, Bucks County, Pa, Sunny South florida , Rio, Neverland, Trinidad & Tobago, Chicago - Lake Buena Vista, Toronto, Ontario, Liberty Lake, WA, Ankara - Malatya - ad Orontem, antioch, california, State College, PA, somewhere in cali , Im Around ... Jersey, Garden Grove, Adelaide, Australia, BKI-KUA, urÌ£nus, Illinois, USA, A.A.S my Aztec Princess, turner fenton, KLA,Uganda, Uganda, 253, Elkhart, IN, Pon Di Gully, Benedict College, HTX, IM LOST , Miami, Hamilton, ON, Des Moines, Iowa , Rural Northern Nevada, Republic of the Philippines, Philippines , hyderabad, Vancouver (HQ) and worldwide, Quezon City, Philippines, Geneva, Hartford,  connecticut, Sioux Falls, SD, Cornwall, Beside Basketball, Rome, Italy, Tafekop Ga-Matsepe, Melbourne, Vilnius, Made in America, PS4, now stop asking, Cheshire. London. #allover, Bartholomew County, Indiana, U.S, My mind is my world, Catskills, Columbia, SC, Right here, Lawrence, KS via Emporia, KS, http://twitch.tv/jcmonkey, Unknown, Marysville, MI, New Haven, Connecticut, Austin | San Diego, ??? ?? ??????? , Pontevedra, Galicia, Somewhere in the Canada, London/New York, 261 5th Avenue New York, NY , Rockville, Maryland, Your Conversation, USAoV, Bhopal, Madhya Pradesh, India., #LemonGang , ayr, Loughborough, England, Killarney, Lahar & Gwalior, Atlanta Georgia , Lincoln, IL, Spinning through time., Hailing from Dayton , Newcastle Upon Tyne, England, Instagram: trillrebel_, ALWAYS DYING NEVER RESTING, 2005 |-/, Uruguay / Westeros / Gallifrey, Jersey - C.I, Afghanistan, Orlando, FL, Atmosphere, somewhere in Portugal, South Stand, dundalk ireland, Sochi, KDA, RU, ÌÏT: -26.695807,27.837865, You're not 19 forever   , Kettering, OH, Spare 'Oom, Milton Keynes , ATL??AL??, UPTOWN , PROV, Novi, MI, on the go, The UK, mpls. , Kensington, MD, Buffalo/DC, Sylacauga, Alabama, To The Right of You!, Cyprus, kansas, Los Angeles,CA, USA, Carry On Jutta!!!, Home of the Takers., New York, New York, ?s????ss? a?????, Alicante, Spain, Mooresville, NC, Mooseknuckle, Maine, Palermo, Sicily, AsunciÌ_n-PY / TÌ_bingen-GER, Voorhees, NJ, Wakanda, Lagos, Does it really matter!, Edinburgh, Weyburn, UGA '15 Alumnus - Economics , Blackpool, the void, U.S.A, london town.., Tennessee/Gallifrey, Amman, Jordan, Columbia Heights, MN, Top Secret, ÌÏT: 10.614817868480726,12.195582811791382, Top secret bunker , Belbroughton, England, 772 Temperance Permenence, 46.950109,7.439469, In the Shadows, Campo Grande-MS, nbc washington, Hamilton, Ontario Canada, Dubai, United Arab Emirates, Hong Kong, Berlin, Germany, IRAQ, Tampa, FL, World news, Bristol, UK, labuan, malaysia, right next to you, CT ? NYC, www.tmgcgart.com, Brisbane, Melbourne-ish, 617-BTOWN-BEATDOWN, Brackley Beach, PE, Canada, 518, Nottingham, England, eARth 3, Enniscrone & Aughris, Sligo , Mostly Wellington, NZ , Atlanta, Ga, Fort Fizz, Ohio, Fort Lauderdale, FL, Raleigh (Garner/Cleveland) NC, Newcastle upon Tyne, walking the tightrope, Frascati, College Station, TX, Bishops Lydeard, England, Karachi, Pakistan, Up a hill, Clearwater, FL, Wellington, #????? Libya#, Newcastle, balvanera, Aro Diaspora, Nigeria, WORLDWIDE, ÌÏT: 0.0,0.0, Eastbourne England, State of Dreaming, Wema building, Port Harcourt, Nigeria, Fruit Bowl, Hooters on Peachtree, Otsego, MI, MAD as Hell, ATL, GA, Uyo, Akwa Ibom State, Nigeria, us-east-1a, RhodeIsland, Napa, CA, KOLKATA, golborne, north west england., NYHC, sweden, ARBAILO, Bagalkote Karnataka , Shrewsbury, Terre Haute, IN, NH via Boston, MA, Glasgow, Scotland, QUEENS., ATL ??, ???????????, Beautiful British Columbia, ????, Birmingham UK, Medford, Oregon, Catalonia, Spain, Kilkenny, Paterson, New Jersey , Lisbon, Portugal, Halifax, Nouvelle-Ìäcosse, Murray Hill, New Jersey, aggressive cannoli eater , 11202, ??????, Atlantic, IA, ÌÏT: 36.142163,-95.979189, Arthas US, Funtua, Nigeria, everywhere, US-PR, Buffalo, NY, San Jose, ÌøåÀå_T: 40.736324,-73.990062,  Road to the Billionaires Club, Washington, DC 20009, Washington, Krasnodar (Russia), Nairobi-KENYA, at my home, District of Gentrification/ DC, Washington, D.C. , U.S.A, #MadeInNorthumberland, Jamshedpur, Jharkhand, eritrean, Dayton, OH, Dorset, United Kingdom, A small federal enclave, Pune, mostly , Kwara, Nigeria, The Desert of the Real, lee london, Anchorage, AK, DC, frequently NYC/San Diego, Enterprise, Alabama, åø\\_(?)_/åø, Washington DC / Nantes, France, Washington, DC & Charlotte, NC, Kalamazoo, Michigan, SEC Country, L'Enfant Plaza Metro Station, Durban, South Africa, Alexandria, VA, Texas-USAã¢ ?, Arlington, VA and DC, Headed To The Top, Mumbai (India), Coimbatore, Chicago, IL 60607, Palo Alto, California, Chicagoland, New Delhi, Minneapolis,MN,US, Chicago, IL , NYC area, Philadelphia, PA , Chicago,Illinois, ÌÏT: 33.209923,-87.545328, Lahti, Finland, Here there and everywhere, the insane asylum. , Macclesfield, Michigan, USA, Boulder, Temporary Towers, Pueblo, CO, Birmingham, UK, Houston, Texas ! , North East, England, [marvelÛ¢dragon ageÛ¢wicdiv], NBO, Lagos Nigeria, St. Louis Mo., Birdland, New Meridian, FD, Arizona, Monterrey, MÌ©xico, infj , on twitter, 2B Hindhede Rd, Singapore, Kalimantan Timur, Indonesia, Prehistoric Earth, san gabriel la union, Manila, Philippines, Middle Earth / Asgard / Berk, Quilmes , Arg, Richmond, VA, Istanbul, Romania, Chile, ???????? ?????????., Virginia, USA, San Diego, CA, Johannesburg , Japan, Honduras, Alvin, TX, Wilbraham, MA, Jerseyville, IL, The Citadel, Oldtown, Westeros, Trackside California, New England, he/him or she/her (ask), Some pum pum, Paulton, England, Norway, Thailand, SEA Server, todaysbigstock.com, buenos aires argentina, everydaynigerian@gmail.com, Surulere Lagos,Home Of Swagg, MontrÌ©al, QuÌ©bec, Montreal, ÌÏT: 6.4682,3.18287, Live4Heed??, Waco, Texas, North Port, FL, BodÌü, Norge, Boise, Idaho, In my studio, Queens New York, Cuttack, Orissa, Patra-Greece., All Around the World, Valle Del Sol, Georgia, USA, New York NYC, Hickville, USA, Silesia, Poland, Moscow, Balikesir - Eskisehir, Manchester, England, ??????? ??????? ????????, Soul Somalia/Body Montreal, Manchester, UK, Yooooooo, Jersey, ÌÏT: 19.123127,72.825133, denver colorado, Morioh, Japan, Milton/Tallahassee, Paname City, Winston-Salem, NC, KÌ¦ln, Nordrhein-Westfalen, Broomfield, CO, Brasil,SP, Ottawa,Ontario Canada, Memphis,TN/ World Wide, In My Lab Creating , Bronx NYC / M-City NY, Bikini bottom, back in japan ??????????, Sharkatraz/Bindle's Cleft, PA, Northern Ireland, Bangalore. India, Bangkok Thailand, Brisbane., PG Chillin!, REPUBLICA DOMINICANA, FOLLOWS YOU everywhere you go, -?s?s?j??s-, Indonesia\n",
            ", The Meadow, Bournemouth, Brum/Lestah , Dorset, UK, Chester , Banbridge, Port Orange, FL, probably petting an animal, Varies , ACCRA GHANA, St Joseph de Beauce, Wasington, DC, uk,   News, Newport, Wales, UK, iTunes - RSS, contactSimpleNews@gmail.com, Upper manhattan, New York, Vancouver BC, Devon/London , ITALY, Atlanta g.a., EVERYWHERE, Washington DC, Mount Vernon, NY, Jackson TN, Los Angeles, London, Kent, USA, Haiti, Nepal, Portoviejo-Manabi-Ecuador, chillin at ceder rapids, en el pais de los arrechos, Hinton, W.Va., Philadelphia, PA USA, Naperville, Lima, Peru, In Your Notifications , Fort Worth, Texas, Dappar (Mohali) Punjab, los angeles, nearest trash can , USA , Los Angeles, California, Morocco, Pedophile hunting ground, U.S., Visit our  dedicated website @, Asia Pacific   , Ojodu,Lagos, Kelowna, BC, 48.870833,2.399227, UK  & Germany, Manila, Magnolia, (Spain), new york, Palestine , Na:tinixw / Hoopa, Berkeley, USA (Formerly @usNOAAgov), Chappaqua NY and Redlands CA, NYC-LA-MIAMI, Okanagan Valley, BC, Caribbean, San Francisco , CA, Las Cruces, NM, Meereen , Football Field, i luv raquel, austin, texas, Philadelphia, Macon, Georgia, Ashxjonespr@gmail.com, miami, Abuja,Nigeria, At Work, Waialua, Hawaii, Coconut Creek, Florida, icon: cheese3d, @notoriousD12, Morris, IL, Lynwood, CA, Where the money at, mi, Gainesville/Tampa, FL, Saint Louis, Missouri, it's a journey , Jonesboro, Arkansas USA, Layang-Layang, Perak, somewhere in Indiana , Inside your webcam. Stop that., R'lyeh, South Pacific, taking bath do not disturb, Alberta, VA, The Howling, United Kingdom,Fraserburgh, WorldWideWeb, Dreieich, Germany, Pembroke NH, Bayonne, NJ, Colorado Springs, IG: AyshBanaysh, fl, Halfrica, Jacksonville Beach, FL, Richmond Heights, OH, U.S.A. - Global Members Site, Tampa, All around the world!, In The Mansion, Numa casa de old yellow bricks, Coventry, 94123, Hendersonville, NC, New Jersey/ D.R., CT & NY, scandinavia, South Korea GMT+9, Hughes, AR, Madison, WI, University of Chicago, yorkshire\n",
            ", Coasts of Maine & California, Pittsburgh , San Diego, California, Idaho, Beirut, Lebanon, El Paso, Texas, qosqo, Lubbock, TX, CA via Brum, Lizzy's Knee, D(M)V  , Marrakech MÌ©dina, Marrakech - Tensift - Al Haouz, Ellensburg to Spokane, SD |Norway| KSA, A sofa, Û¢5Û¢12Û¢14Û¢ | åÈ#SaviourSquadåÇ, Pocatello, ID, Room 234, Near Yosemite, The Harbinger., chicago, Dutch/English/German, ARGENTINA, oklahoma, One World, Desde Republica Argentina, TÌÁchira - Venezuela, a box, Barcelona, Spain, Hawaii, USA, New Zealand, Alaska, USA, Okuma Town, Fukushima, rzl ?, Orm, in the Word of God, #keepthefaith J&J, Global Edition, world, Saline, MI, Here., BOT ACCOUNT, #otrakansascity, Dalkeith, Scotland, Durand, MI, Forging my Story, Mass, 14/cis/istj , Michigan , where I'm supposed to be, Kutztown, PA, Cairo, Egypt., Karachi Pakistan, not so cool KY, Hampshire UK, Oblivion?, South West, England, ?????, Redondo Beach, CA, Newcastle, England, Planet Eyal, Shandral System, Mumbai, Maharashtra, Columbus ?? North Carolina, Phoenix, denmark, Davao City, Based out of Portland, Oregon, Kuwait, Wildomar, CA, buhh, Indianapolis, IN, We are global!, Adelaide, University of Limerick, Sacae Plains, Southern Maine, Five down from the Coffeeshop, Renfrew, Scotland, Kuala Lumpur, Malaysia, Antioch, CA , Alexandria, VA, USA, Reddit, Bakersfield, CA, Calgary, Alberta, Canada, Nagpur, Surrey & Manchester, Calgary,AB, Canada, Calgary, Fort Myers, Florida, Im In Route , Kansas City, North Hastings Ontario, U.S. Northern Virginia, M!$$!$$!PP!, Indiana, Cochrane, Alberta, Canada, Leduc, Alberta, Canada, Chapel Hill, NC, 204, 555 11 Ave. S.W., Augusta, GA, Torrance, CA, USA, Alabama, Olympia, WA, CA, AZ & NV, British Columbia, Canada, Auckland, Orange County, NY, Henderson, Nevada, Vancouver, British Columbia, Nevada, USA, Alaska, Whippany, NJ, Kodiak, AK, Birmingham, England, Park Ridge, Illinois, Fredonia,NY, Glendale, CA, Kuwait , Fleet/Oxford, UK, Bahrain, @ ForSL/RP, Rochester, NY, Nevada (wishing for Colorado), Kokomo, In, london, Kenosha, WI 53143, London/Surrey , San Diego, CLT, Africa, Cydia, Tallahassee Florida, Waterloo, Ont, 17-Feb, New Britain, CT, Chevy Chase, MD, LA - everywhere, wrapped arnd hyuk's finger, Sevier County., Rochester, Gold Coast, Qld, Australia, Nashville, FLYEST HIPPIE YOU KNOW , An eight-sided polygon, Konoha Village, St. Catharines, Ontario, //??//, FSC '19, Û¢901Û¢, Gold Coast, Portland, Oregon, Portland, Ore. , North West England UK, Midwest, Manchester UK, TV5, Philippines, Hackney, London, Queensland, Australia, Harpurhey, Manchester, UK, Benton City, Washington, Chicago, but Philly is home, Breaking News, seoul, WA State, Hensley Street, Portland, MIchigan, West, Gold Coast, Australia, Washington, Eureka, California, USA, Bend, Oregon, Minna, Nigeria, EIU  Chucktown/LaSalle IL, Northern California U.S.A., Yellowknife, NT, sydney, australia, ÌÏT: 43.631838,-79.55807, Yellowknife, US: 44.414510,8.942499, Tri-Cities, Wash., The Empire/First Order, Brisbane, Queensland, Moncton, New Brunswick,  |IG: imaginedragoner, London / Berlin / Online, Williamsburg, VA, emily | helen | shelley , New Orleans, Louisiana, Yamaku Academy, Class 3-4, Spring Grove, IL, The Windy City, Bloomington, IN, Whitby, ON, Kajang ? UiTM Puncak Alam, ? Philly Baby ?, Cleveland, TN, they/them, my deli, Winnipeg, Trost District, ?????? in Yokohama Japan, LFC x GSW, Elmwood Park, NJ, South east of U.K, lrhcthband;four - bournemouth, Oakland, Ca, Antigua ?? NYC , zboyer@washingtontimes.com, WonderlandÛÓ ?????? ???? ??????, elizabeth king, Germany, London, United Kingdom, Chicago Heights, IL, S.F. Bay area,  Blood Indian Reserve, On the toilet having a dump , City of London, London, Long Island, NY, Palestine Texas, Kauai, Hawaii, East London. , Rhode Island, Jammu and Kashmir, canada, Terlingua, Texas, Somewhere in Jersey, Stay Fly?, india, Orlando, Fl, Bakersfield, California, Los Angeles... CA... USA, Florida but I wanna be n Texas, Kyiv, Ukraine, JamDung, PanamÌÁ , Earth, Milky Way, Universe, Edappally,Kochi, In #Fairie, where else? ;-), Ukraine, ???? ???????, Rogersville, MO, Telangana, Chatham, IL, Charter Member of the VRWC, Wood Buffalo, Alberta, Nakhon Si Thammarat, Somewhere with Clyde, Quincy, Varanasi, Laredo, TX, Thane, New South Wales, Australia, Poconos, Haddonfield, NJ, Southern California, Jaipur, Rajasthan, India, ??? ???? ??????, Bangalore, Also follow ?, Play For Ryan ??, Dimapur, In the potters hands, New York City ,NY, Corpus Christi, Texas, Wolverhampton/Brum/Jersey, Chamblee, Georgia, Official Website, #WashingtonState #Seattle, TechFish , United States where it's warm, Hope Road, Jamaica , jersey , WestEnd, Puritan Ave , Youngstown, OH, Nantes, France, St. John's, NL, Canada, Caserta-Roma, Italy , Pekanbaruå¡Batam Islandå¡Medan, oman muscat al seeb , Jogja, Indonesia Slowly Asia, Avon, OH, The North, Just Happy to Be Anywhere, Lima, Ohio, Lowell, MA, playing soccer & eating pizza, Hueco Mundo, Boston Û¢ Cape Cod ?, Rafael castillo, New Jersey, Fort Wayne, IN, Enterprise, NV, 434, Grand Rapids MI, New York , Utica NY, Nunya, Houston, TX  , TX, Christiana,Tennessee, Bishops Stortford, England, Earth , Brentwood, NY, Chippenham/Bath, UK, Yewa zone, sitting on the fence, New York, Carregado, Largo, MD, mexico, Cape Town, Khayelitsha, Stanford University, Midwestern USA, Bedford IN , Thibodaux, LA, Brazil, In the moment, Alliston Ontario, SaudI arabia - riyadh , New York. NY, Athens - Nicosia, Bremerton, WA, Tulalip, Washington, Halifax, Hilton Head, SC  , SÌ£o Paulo, 2 high 2 come down , Wrex, big boy Û¢ 0802, Brooklyn, St.Cloud, MN, on a catwalk somewhere,   å_ , Zac Newsome loves me, louisville, kentucky, Makai, Fort Valley,GA/Fayetteville,AR, Newark, NJ, the road to success, The Desert, Yuba City, CA, University of South Florida, the moon, Niagara Falls, Ontario, Woodcreek HS, Roseville, CA, Here & There, District 12 - Orange County, Plain O' Texas, SouthEast Asia, Saipan, CNMI, Orange County, Calif., lost in my thoughts, Orange County, CA, Tallahassee, FL, Laguna Beach, Calif. ,  Nevada Carson City,Freeman St, LA ??, Aracaju - Sergipe, Nashville, Tennessee, Long Eaton åá Derbyshire åá UK, Portage, IN / Worldwide, Victoria, BC  Canada, Roads/Trails Everywhere, Liberty Township, Ohio, Aberdeenshire, A Hoop Somewhere, Bloomington, Indiana, Basking Ridge, NJ, Stalybridge, Tameside, Franklin, TN near Nashville, St. Louis, Missouri, Bandung, Louisville, KY , Freeport Ny, 650/559, dreamy lake, houstn, hell, Asheville, NC, St. Patrick's Purgatory, @cockerelshoes, manaus, Sioux Falls, S.D. , Republica Dominicana, Eastlake, OH, Hillsville/Lynchburg, VA, Some where, Travelling around the world ,  616 Û¢ Kentwood , MI , ? Jet Life ?, Fairy Tail! , Santo Domingo Alma Rosa , Somewhere Around You, Houston |??| Corsicana, Cincinnati, OH, Bacon, Some other mansion, Astley, Manchester, Bow, NH, Frome, Somerset, England, Mars, Melbourne, Victoria, Essex, England, new york, ny, somewhere too cold for me, Leeds, Wahpeton, ND, Chorley, Lancashire, UK, Northampton, MA, Ventura, Le Memenet, Lubbock, Texas, Derby, Mississauga, Ontario, Delhi , Keighley, England, Pomfret/Providence, East Lansing, MI, Rocketing through the galaxy, boston, Warrandyte, Australia, Aix-en-Provence/Utrecht, Van Buren, MO, Hawaii USA, Waddesdon, Rock Springs, WY, Vietnam, Tampa-St. Petersburg, FL, Huntsville, Alabama, Nova Scotia, Canada, Metro Manila, Jakarta/Kuala Lumpur/S'pore, I ACCEPT SONG REQUESTS, Honolulu, Hawaii, Miami Beach, Fl, Huntsville AL, don't run, West Midlands, Global-NoLocation, Ocean City, NJ, belleville, Kualar Lumpur, Malaysia, Nadiad ,Gujarat , India!!, South of D.C., Adventist - Lesson Sabbath, Passamaquoddy, Û¢III.XII.MMXIÛ¢, Sherwood, Brisbane, Australia, Estados Unidos, Timaru District, New Zealand, Cameroon, St Austell, Cornwall, Ogba, Lagos, Nigeria, North America, PDX, Shelby County, port matilda pa, Concord, N.C., Redding, California, USA, Slatina,Romania, Los Angeles for now, ????????????, Western Washington, alberta, canada, Montana , Cape Cod, Nicola Valley, Tips on my blog at, Duncan, Texas , Based in CA - Serve Nationwide, Lansdale,Pennsylvania, Carol Stream, Illinois, Calgary/Airdrie/RedDeer/AB, Hattiesburg, MS, Arkansas, Dagenham, Essex, Inside the Beltway (DC Area), Windsor,Ontario, Brasil, Fortaleza ce, Paradise City, Rapid City, South Dakota, antoine fisher , Between Dire and Radiant, Bay Area, CA, Watch Those Videos -, Ab, Canada, Newton Centre, Massachusetts, Kicking Horse Pass, far away, Suginami-ku, Tokyo, Japan, Washington State, Somewhere , Heaven, Calgary, Canada, Virgo Supercluster, facebook.com/tradcatknights, Wyoming, MI (Grand Rapids), Iliff,Colorado  , Dicky Beach, Not Los Angeles, Not New York., Calgary, AB, Canada,  Queensland, Australia, Cleveland, OH - San Diego, CA, The barn, where the wild things are, ?semekeepschanging@soyeh?, i love you zayn, WORLD WIDE, England , Sumter, SC, Someday I'll live in England. , Hogsmeade, 5/5 access / rt link please x, å_: ?? ÌÑ ? : ?, 10-Jul, The South & WestCoast , Hogwarts, ?@symbolicjensen?, Contoocook Valley Region of Ne, Alameda, CA, Lancashire, United Kingdom, a van down by the river, NIFC, Giddy, Greenland, Roppongi, Minato, Tokyo , Pleasanton, CA, Portsmouth, VA, Dil's Campsite, ilford, Nashville, Tn, SWinfo@dot.state.al.us, Far Away From Home, Muntinlupa City, Philippines, Mysore, Karnataka, Fort Worth,  Texas , Greenfield, Massachusetts, London, Riyadh, Crayford, London, Arnhem, the Netherlands, Pacific Northwest, Somewhere in Spain, Jackson, MS, Frisco, TX, Malaysia/Jordan, Somewhere out there, International Action, Planet of da Bathing Apes, Maricopa, AZ, liverpool , Albuquerque New Mexico, New York Brooklyn, Nebraska, Colorado & The GLOBE, Rheinbach / Germany, Riyadh, jeddah | Khartoum, United Hoods of the Globe, Jubail IC, Saudi Arabia., ?????? ??? ?????? ????????, Right next to Compton, 11th dimension, los angeles, 570 Vanderbilt; Brooklyn, NY, ??????????? ???????????..? , ?????? ???? ??????, Silvermoon or Ironforge, Charleston, WV, Benicia, CA , Riyadh '), Houston TX, Innerhalb der LÌ_cke, eating strawberry shitsickles, Near Richmond, VA, Kolkata, am everywhere, Miami, Florida, NIGERIA, Louisville, KY, Sarasota, FL, Washington state, Fort Collins, CO, West Chester, PA, Free State, South Africa, Fresno, California, RSN: Tru, El Paso, TX, South Pasadena, CA, perth, australia , Mongolia, brisbane, australia, China, Chiyoda Ward, Tokyo, rome, Athens,Greece, EastCarolina, IN our hearts  Earth Global , France, tokyo, china, between ideas & 3-5pm AEST, Zimbabwe, Starling City, The Great State of Maine , Glenview to Knoxville , Roaming around the world, Cape Neddick, ME, Mariveles, Bataan, ÌÏT: 40.562796,-75.488849, Melbourne, FL, New Chicago, Australia , Victorville, CA,  Eugene, Oregon, THANJAVUR, Las Vegas, NV, Cumming, GA, westwestwestwestwestwestwest, NYC metro, Heathrow, OK, Tampa, Fl, TonyJ@Centralizedhockey.com, Pune, Maharashtra, cuba, Rocky Mountains, Brazos Valley, Texas, The Universe, #BlackLivesMatter,  Miami Beach, #1 Vacation Destination,HAWAII, Haiku, Maui, Hawaii, NAWF SIDE POKING OUT , Berlin - Germany, Vineyard, @potteratthedisc, Anderson, SC, The Epicenter, and Beyond, Books Published, USA, ??? ??? ????? ??? ???., Somewhere Powerbraking A Chevy, Mexico City, The Globe, Chicopee MA, Srinagar,Kashmir, DFW, Texas, Piedmont Triad, NC, MD,  Tropical SE FLorida, Ikorodu, Lucknow, India, Doghouse, someplace living my life, Bronx NY, World Wide Web, Centurion , Avon, Orlando,FL  USA, North London, come here in 20 minutes for an ass kicking, Emirates, Milton Keynes, England, Scottsdale. AZ, Saskatchewan, Canada, North West London, Rockland County, NY, Atlantic Highlands, NJ, Sutton, London UK, Alameda and Pleasanton, CA, Madison, WI & St. Louis MO, Bay Area, California or Colorado, Mesa, AZ, Carterville, Corpus - Las Vegas - Houston, Spring Tx, Georgia, U.S.A., Riverview, FL , beijing .China, Somewhere in China., Peru, Cambridge, Massachusetts, Lahore, Saint Paul, Shah Alam,Malaysia, Dubai, UAE, ÌÏT: 35.223347,-80.827834, Plano, Texas, mnl, Louisiana, Nairobi , Kenya, Russia, Baltimore, England & Wales Border, UK, Zeerust, South Africa, Boston, Massachusetts, Bristol, The Main , The windy plains of Denver, Sunbury, Ohio, Sunnyvale, CA, Land of Lincoln, NYC&NJ, swindon, Croydon, Asia, Toronto, ON, Canada, San Jose, CA, USA, UK, Republic of Ireland and Australia, Milton keynes, Pontefract UK, the Dirty D, Paducah, KY, Asia European Continent Korea , Athens, Greece, Proudly Canadian!, Cascadia, County Durham, United Kingdom, Dundee, UK, Detroit Tigers Dugout, st.louis county missouri , Detroit/Windsor, Dundee, EGYPT, The Circle of Life, i got 1/13 menpa replies, omg, Pocatello, Idaho, probably watching survivor, Medan,Indonesia, Santa Maria, CA, ??9?, Oklahoma, USA, Jakarta, Chicago, Il, LA, Clayton, NC, Bandar Lampung, Indonesia, Venezuela, buffalo / madrid / granada, HIÛ¢UTÛ¢AS, di langit 7 bidadari (^,^ ), Coventry, UK, Norman, Oklahoma, Rapid City, Black Hills, SD, Memphis, in the Tennessees, Greensboro, North Carolina, Leesburg, FL, Rotterdam, The Netherlands, Victoria, BC, winston-salem north carolina, Elchilicitanierraversal , (RP),  45å¡ 5'12.53N   14å¡ 7'24.93E, Reddit , Asheboro, NC, Holland MI via Houston, CLE, SoDak, Waverly, IA, Why should you know?, Photo : Blue Mountains , Bedford, England, Aperture Science Test Facility, Wandsworth, London, im definitely taller than you., london essex england uk, {Detailed}, Fairgrounds Resident, English Midlands, Victoria, Australia, Earth, Antarctica, Magnolia, Fiore , New Sweden, cereal aisle #17:i4, i'm a Citizen of the World, Leicester, England, Anonymous, Realville, by a piano probably. , Fiore, Lamia Scale, Chattanooga TN, Huntsville, AL, Haysville, KS, Earth-616, wisco, Leaving Bikini Bottom, Tennessee, USA, Eww, I'm not Paul Elam, Hemel Hempstead, Chester Football Club, Fresno, West Hollywood, CA, ANDY 4 LEADER X, Hell, Tama, Iowa, Minneapolis - St. Paul, Las Vegas aka Hell, Ashburn, VA, St. Louis, Mo, Vancouver Canada,  The World, Own planet!!, Vancouver, BC, Canada, Ecuador, Stay Tuned ;) , Cimerak - Pangandaran, Cottonwood Arizona, Wausau, Wisconsin, Raleigh, NC, BOSTON-LONDON, GLOBAL/WORLDWIDE, North Dartmouth, Massachusetts, Lynchburg, VA, 107-18 79TH STREET, The Waystone Inn, ?? Made in the Philippines ??, Boston/Montreal , Manavadar, Gujarat, Pueblo, Colorado, PG County, MD, Somewhere between Chicago & Milwaukee, InterplanetaryZone, WORLDWIDE-BOSTON, Jersey Shore, Detroit, Michigan, laying on the bass, Hustletown, ? miranda ? 521 mi, Oldenburg // London, #partsunknown, Proudly frozen Canuck eh !!, IL, KSU 2017, Colorado, USA, Storybrooke / The Moors, NOLA ?? TX, neil's kitchen  |  32215, The shores of Lake Kilby, Two Up Two Down, The Internet, Flushing, Queens,  Quantico Marine Base, VA., Bozeman, Montana, Hearts & Minds, somewhere USA , Boston MA, highlands&slands scotland, Crouch End, London, Ealing, London, Malibu/SantaFe/Winning!, London, Greater London, UK, Edinburgh, Scotland, Nottingham, Tring , Co. Tyrone Northern Ireland, Birmingham & Bristol, IUPUI '19, potters bar, Chiswick, London, the burrow, plymouth, The Pumpkin Carriage of Dreams, Holly Springs, NC , Notts, South, England, home , Orlando/Cocoa Beach, FL, Birmingham and the Marches, MÌ©xico D.F., Greenwich Meridian, liaÛ¢daniÛ¢laura, Oneonta, NY/ Staten Island, NY, in my own personal hell (:, Jonesboro, AR MO, IOWA USA, sÌ£o luis, Aurora, IL, America of Founding Fathers, on to the next adventure, Suburban Detroit, Michigan, Guatemala, Leitchfield Kentucky, Littleton, CO, Austin TX, Marbella. Spain, Hammersmith, London, Ashford, Kent, United Kingdom, Dhaka, Bangladsh, Sacramento, California, #goingdownthetoilet Illinois, Under Santa Barbara Skies, Fukushima city Fukushima.pref, Norwalk, CT, USA, North Dakota, japon, Eaubonne, 95, France, Pluto, Anywhere I like, Phoenix, Arizona, USA, Paris (France), Den Helder, Rijkswerf, SE London(heart is by the sea), Warsaw, Aztec NM, Fort Calhoun, NE, Bournemouth, Dorset, UK, Somecity, Somerset, MD, Dover, DE, Cavite, Philippines, Korea, M!A: None, Purfleet, The Memesphere, 21 | PNW, Miami via Lima, Cymru araul, EIC, NEWCASTLE, Jump City, Dudetown, Ondo, Bhubneshwar, cedar rapids ia, satan's colon, Valparaiso , prob turning up with sheen, #freegucci, Waterloo, ON, The dark, Reading MA, Wynne, AR, The Wood, Palmyra, NJ, 1313 W.Patrick St, Frederick, Danbury, CT, Mid West, Upstairs., Winnipeg, Manitoba, leyland, don't buy the s*n, Overton NV, Born in Baltimore Living in PA, Elizabeth, NJ, Canada , a feminist, modernist hag., kissimmee,fl., 828/704(Soufside)/while looking goofy in NJ, Merica!, DC Metro area, Federal Capital Territory, Illinois, Turkmenistan, 23 countries and counting!, Ontario, Montgomery, AL, Amarillo, Sydney, NSW, Central Coast, California, Clean World, Street of Dallas, Goa, India, England, Great Britain., San Luis Obispo, CA, Kamloops, BC, Lyallpur, Pakistan, Pensacola, FL, Corpus Christi, EspaÌ±a, Spain, New York City, NY, LAGOS, NJ/NYC, Italy, Eagle River Alaska, ÌÏT: 6.488400524109015,3.352798039832285, Nottingham, United Kingdom, Akure city in ondo state , Anywhere, FCT, Abuja , Finland, Ile-Ife,Osun state, Nigeria, Fukuoka, Japan, kano, ?? ?+254? ? \\??å¡_??å¡_???å¡_?/??, Dammam- KSA, Pro-American and Anti-#Occupy, Durham, NC, The Kingdom of Fife, Scotland, Dallas Fort-Worth, Everett, WA, Mumbai, India, The P (South Philly), VONT ISLAND, LAGOS, Leeds, UK, www.facebook.com/stuntfm, Toronto, Canada, Miami?Gainesville, illinois. united state , Royton, the Refrigerator , Leeds, United Kingdom, Linton Hall, VA, The Internetz, Charleston, IL, Narnia, Charlotte, NC | KÌ¦ln, NRW, Topeka, KS, Palm Bay, FL (Kissimmee), Manhattan, elena's bed // info on link, Elsewhere, NZ, 518 åá NY, The Shady Hyenatown of Finland, Maryland , East TN., Milwaukee WI, Macon, GA, Torry Alvarez love forever ? ?, Detroit, Petaluma, CA, ?^åá??åá?^?? ??, ?, Oxford / bristol, PARACHUTE, Near Warrington, |-/, Pawnee, Derbyshire, United Kingdom, VCU, McLean, VA, South Florida, Positive 852, Kansas City, Mo., anzio,italy, US, PA, h+l, SoCal, Bangalore, India, Stratford, CT, MI,USA, Houston , Los Angeles , missouri USA, South africa, Bucharest, Joshua Tree, CA, Area 8 , Bangalore, INDIA, ÌÏT: 40.707762,-74.014213, Killa Hill, CO, Southern Califorina, all over the world, San Diego, Calif., Geneva. And beyond. , NYC, New York, VÌ_a LÌÁctea, New York, United States, Some Where in this World, russia, Livonia, MI, Karolinska vÌ_gen 18, Solna, I Heard #2MBikers, Dunwoody, GA, Ebola, Broadview Heights, Ohio, Poplar, London, LP, MN USA, Burlington, VT, La Grange Park, IL, Warszawa, #MayGodHelpUS, Darnley, Prince Edward Island, Gloucester, MA, vancouver usa, Alberta , Yobe State, Coventry, Rhode Island, United States of America, La Puente, CA, music., Thailand Malaysia Indonesia , Fairfax, VA, Sicamous, British Columbia, North Memphis/Global Citizen, Bridport, England, Porto Alegre, Rio Grande do Sul, North Vancouver, BC, Pioneer Village, KY, ECSU16, Tulsa, OK, North, Ames, IA, San Diego California 92101, Augusta, Maine, 04330, Ad Majorem Dei Glorium, Aurora, Ontario ,  Baku & Erzurum , Statute Of Limitations_, paradise,  BC, US, Asia or Europe., St PetersburgFL, EspaÌ±a, Tarragona, Warri, Skyhold, Amman,Jordan, tripoli international airport, Auckland, New Zealand, NYC,US - Cali, Colombia, QLD Australia, Geneva, Switzerland, #HarleyChick#PJNT#RunBenRun, Big NorthEast Litter Box, Sand springs oklahoma, Surry Hills, Sydney, Thornton  Colorado, Wanderlust, U.S.A.   FEMA Region 5, Ohio, USA, watford, West Hollywood, The Multiverse, Jammu | Kashmir | Delhi, southern california, Philadelphia, Pennsylvania USA, Huntley, IL, The green and pleasant land., Leeds, U.K., Westerland, Kuala Lumpur, Surabaya, #iminchina, ?????????????, Thailand , 17th Dimension, USA - Canada - Europe - Asia, Paris, France, Here, there and everywhere, Belgrade, Cardiff, UK, Bossland, Uppsala, Sweden, East London, Detroit, MI, Montana, USA, Utah, USA, Frankfort, KY, In Space, Sligo and Galway, Ireland, Tipperary (Long Way) , Malang, hertfordshire., Dublin, SURROUNDED BY WEEABOOS, Vidalia GA, Vista, CA, Serva Fidem, Bellville, Ohio, trapped in America, A little house in the outback., tri state, Upstate New York, Chicora ?? Oakland, heart of darkness, unholy ?, Colonial Heights, VA, The Weird Part of Wonderland, Cassadaga Florida, Columbus, Georgia, Accra,Ghana, Phoenix Az, ON, Spain - China - Latin America., Chester, IL, West Africa, Made Here In Detroit , Dallas, Tejas, ATLANTA , GEORGIA , | CA Û¢ GA  |, Depok, London / Birmingham, texas, Yulee, FL, austin tx, Garrett, followurDREAMS(& my instagram), sheffield // rotherham, Wailuku, Maui, Lima, OH, Long Beach, CA, Belfast, fujo garbage heaven , New York - Connecticut, snapchat~ maddzz_babby , 2,360 miles away, Florida Forever, #RedSoxNation, MNL, youtube.com/channel/UCHWTLC9B4ZjUGh7yDlb55Iw, CA ??DC, MÌ©rida, YucatÌÁn, Scituate, MA, hkXfYMhEx, Hamilton County, IN, Dakar, In your head, The Sanctuary Network, Rome, Tractor land aka Bristol, Adventuring in Narnia, Asgard, Unite. Bless. Wallahi , sneaking glances at Thancred, ljp/4, Charlotte, North Carolina, Nirvana, ny, Mentor OH, Trumann, Arkansas, 18 Û¢ CC, 1D | 5SOS | AG, PA.USA, m3, k, a, d, pissing off antis, 'SAN ANTONIOOOOO', sisterhood, 3000 miles from everyone, livin in a plastic world, with Doflamingo, 21, Porto, access to njh/5 and cth/4, tx, Massachusetts , rio de janeiro | brazil, Moore, OK, Û¢OlderCandyBloomÛ¢, Justin and Ariana follow, [@blackparavde is my frankie], Daddy Kink Central, Wakefield, West Yorkshire, Pittsburgh, Namjoon's pants, Mogadishu, New Jersey, All around the world,  Jariana Town, Honeymoon Ì£ve., Aveiro, Portugal, justin & ari follow || tvd, 9/1/13, JDB/LJC/AGB/TW/PLL, nap queen, amsterdayum 120615 062415, lesa * she/her, Griffin :3, xiumin's nonexistent solos, marvel | books | hp | tmr, blackfalds., San Juan, Puerto Rico, Freddy Fazbears pizzeria, BrasÌ_lia, POFFIN, #Gladiator Û¢860Û¢757Û¢, W.I.T.S Academy, Where ever i please, Melbourne, Australia., Sheffield/Leeds, PLFD cuh.., lost in history, 5-Feb, labyrinthia, ??+ ... ??+, garowe puntland somalia, Third rock from the Sun, Lives in London, Somalia, Lakewood, Tennessee, Smash Manor/Kanto, Bokaro Steel City, Jharkhand, Hatteras, North Carolina, 412 NW 5th Ave. Portland OR, Madison, Wisconsin, USA, Mogadishu, Somalia, the azure cloud, Perenjori, WA, Unknown , Atlanta(ish), GA, Above the snake line - #YoNews, ill yorker, White Plains, NY, B&B near Alton Towers, Alger-New York-San Francisco, Êwagger!ÌominicanÌ÷, Texas af, Hinterestland, Evansville, IN, Greenpoint, ÌÏT: 42.910975,-78.865828, Cypress, CA 90630, North East Unsigned Radio, Every Where in the World, Fountain Valley, CA, Haarlem, Queensland, HOMRA., Ciudad AutÌ_noma de Buenos Aires, Argentina, Not where I want to be, yet, Duval, WV 25573, USA ?, Rhyme Or Reason?, hey Georgia, nc, kenya, My subconscious,  New England, UAE,Sharjah/ AbuDhabi, The Web, Paris., Am International, Team Slytherin, Michel Delving., Hame, Brizzle City !, ???  Dreamz, texasss, Diamondville, The TARDIS, Honolulu,Hawaii , Flipadelphia, The American Wasteland (MV), high way 99, ... -.- -.--, Canada Eh! , Ohio, 828??864??803, Nomad, USA, they/them , Greater Los Angeles Bearia, victoria mozÌ£o , Hollywood, miami x dallas , Hamburg, DE, Nanaimo, BC, Canada, Decatur, GA, Los Angles, CA, az, Crato - CE , Ventura, Ca, MedellÌ_n, Antioquia, BrowardCounty // Florida , Soufside, Dalston, Hackney, WORLDWI$E , atlanta, 3.28.15|7.20.15|7.25.15, cigarknub@gmail.com, Ktx, PSA Nursing , Narnia, Maryland, Winnipeg, MB, Canada, Bronx, NY, Wakefield MA, Huntington, WV, South, USA, Hampshire, UK, Louisiana, USA, This Is Paradise. Relax. , Deployed in the Middle East, teh internets, Neath, South Wales, Mountains, Porthcawl, In the spirit world, Western New York, Mpela'zwe , State College, Pa, mind ya business, nor*cal, West Palm Beach, Florida, philly, Mackem in Bolton, Johns Creek, GA,  New Delhi ,  Alberta, #BossNation!, pittsboro, NC || OR, EspaÌ±a - Spain - Espagne, #PhanTrash, Desert Storm?? |BCHS|, Ottawa, Ontario, Santiago de Chile, CamaquÌ£/Pelotas, Taylor Swift, Austin/Los Angeles, U.S.A and Canada, In a crazy genius mind, hatena bookmark, Docker container, DMV, philly , south africa eastern cape, Amazon Seller , Propagandist, NJ/NY/NM/NE/ND, 3???2???????, Cimahi,West Java,Indonesia, Bukittinggi  ?? Sumatera Barat, Stateless Global Citizen, Halton Region, Los Angeles, Calif., Warm Heart Of Africa, ÌÏT: 27.9136024,-81.6078532, VÌ_sterÌ´s, Sweden, Reality, Roadside, London/Lagos/FL ÌÏT: 6.6200132,, The Land of MAss Stupidity, dorito land, Gidi, Email: Lovethterry@gmail.com, Homs- Syria, lagos. Unilag, Did anybody see me here ??, Na waffi, Helsinki, Saudi Arabia, Garden City, NY, africa, Birmingham, United Kingdom, nigeria, Minority Privilege, USA, Paris, Chicago IL, Principality of Zeron, GCC, On a beach , EARTH, Tokyo & Osaka, mainly California, 18 | 509 , glasgow, Bon Temps Louisiana, my house, Beacon Hills, West Coast, USA, Gaborone, Botswana, Bracknell, {GoT | Modern AU | Lizz}, Cardiff, Wales, NAIROBI  KENYA , In your mind, Essex, oxford, Gloucester, i beg vines sorry , toledo, Semarang, Indonesia, Lincoln City Oregon, Fountain City, IN , gaffney, sc , ???????, Texas, Camberwell, Melbourne, Kansas, ava, nj/ny, Back East in PA, ? icon by @Hashiren_3 ?, EveryWhere, Trapped in my Conscience , death star, Brentwood,TN, Auburn , Harlem, NY or Chocolate City, Polmont , Predjama, Eslovenia., Tn, South Asia, Reading a romance novel, Bulgaria, AUSTRALIA-SOUTHAFRICA-CAMBODIA, Port Williams NS, Dallas, TX , SÌ£o Paulo, Brasil, WORLD, Stowmarket, Philadelphia, Pennsylvania, Lake Monticello, VA, Sao Paulo, WV, love the blue and gold, Berlin, NY, DC, Malibu, Shanghai, Anywhere Safe, Marietta, GA, Numenor, Salt Lake City, UT, Earth 0, New Jersey, USA, Lancaster, CA, Reston, VA, USA, Jeddah_Saudi Arabia., toronto, ontario, Bangalore City, India, Iraq|Afghanistan| RSA |Baghdad, peshawar pakistan , Beit El - Israel, New Delhi, India, Sanganer, Rajasthan, Loading..., Chennai, BILASPUR,CHHATTISGARH,495001, Niall's arms, proudly South African, ????? ???? ????, Charleston S.C., Hyrule, front row at a show, Arlington, VA, God.Family.Money, Kwajalein/Virginia/Dayton, OH, BiÌ±an,Laguna, Enfield, UK, South Carolina, USA, Atlanta, Georgia USA, Gander NF, nowhere, Palm Desert, CA, Palma, Islas Baleares, IndiLand , Baydestrian, gamertag: bexrayandvav , Jupiter, El Dorado, Arkansas, WORDLDWIDE, 73101, South Carolina, Tornado Alley, USA , Nicoma Park, OK, Lethbridge, Alberta, Canada, Killafornia made me , Lethbridge, AB, Canada, God is Love. , cognitive dissonance town, I O W A, Gurgaon, Haryana. , Wherever I'm sent, Austin, Fort Knox, KY 40121, california, Providence RI / Lisnaskea , Dindigul,TamilNadu., khartoum sudan,   , Kentucky, USA, New Jersey/New York, #SandraBland, 'Merica, Harper Woods, MI, dubai , staggering on tenement roofs, houston, Orlando , Noida, NCR, India, MÌ©xico, NYC / International, PA, USA, call me peach or sam lo, LITTLETON, CO, USA, TERRAN, Orlando, shoujo hell , 10 Steps Ahead.  Cloud 9, central chazifornia, ????s ?? ????Ìø????Ì¡a, T E X A S | wwat 8.24.14, 876 Jamrock., å_å_Los Mina Cityã¢, St Louis, MO, WORLDWIDE!, Greensburg, PA, Like us on Face , Montgomery County, MD, Cambridge, Massachusetts, U.S., LOCAL ATLANTA NEWS 4/28/00 - 4/28/15 FREELANCER, Your notifications, Methville, CA, I rap to burn shame., Los Angeles New York, www.aprylpooley.com,  Little Rock, AR, The Jewfnited State, Minneapolis, MN, Gumptown, The Triskelion, Minneapolis/St. Paul, Kirkwall, Portsmouth, UK, cork, dublin , ELVY, Tunbridge Wells, lowestoft, North East / Middlesbrough , Londonstan, Tring, UK, Stage with Trey Songz, Hampstead, London., Tamworth, Kawartha Lakes, Ontario, Canad, YA MOTHA BED, Indiana, USA, Illumination , Bathtub de Bett , Chasing My Dreams w/Jass??, Rochester Hills, MI, Davis, California, Displaced Son of TEXAS!, on twitter , Wolverhampton, North Carolina , Manila City, Louavul, KY, IG : Sincerely_TSUNAMI, Kleenex factory, ??????????????, Land Of The Kings, Winter Park, Colorado, #ODU, ona block w/ my BOY ??, East Islip, NY, but i love kaylen ??, COMING SOON, Gotham City,USA, Hawaii, BROKE NIGGAS DREAM!!, Las Vegas, NV , å¡å¡Midwest Û¢Û¢, Riverdale, GA , Plano,TX, Midwest City, OK, Galapa / AtlÌÁntico, STL ?NOLA, instagram: bribriony, Long Island, Downtown Oklahoma City, Seattle native in Prescott, AZ, Savage States of America, Whole World , Ibadan,Oyo state, ngapain?, Tema,Accra, phuket thailand, Unites States, Santiago,RepÌ¼blica Dominicana, Wilmington, Delaware, iamdigitalent.com, Evergreen Colorado, The Peach State, Dhaka, Halifax, Nova Scotia, Deadend, UK, Chester, eBooks, North America, Sydney & Worldwide, Scotts Valley, CA, IG/SC:bjfordiani, Wisconsin, USA, East Aurora, NY, Woosley, Costa Rica, Hamilton, Ontario CA, maryland, Attock, INDIA, CPT & JHB, South Africa, Oregon and Washington, Yuuko-san's shop, Watertown, Mass., Milky Way galaxy , us, ??? ???? ?f glory. ?, Your Six, ÌÏT: 1.50225,103.742992, Newcastle, OK, Oshawa/Toronto, Very SW CA, USA....Draenor, Amsterdam & Worldwide, 3rd Eye Chakra, Perth, Australia,  ? ??????? ? ( ?? å¡ ? ? ? å¡), Ted&Qz Inc, Ireland, Europe, Santiago de Cmpostela Galicia, cleveland, oh, Northern Colorado, West Coast, Cali USA, right here, nashville, tn , Incognito, Somewhere else..., In a graveyard , Downtown Churubusco, Indiana, Host of #MindMoversPodcast, The D, Still. ??S.A.N.D.O.S??, We're All Mad Here, New Hampshire, USA, ca(NADA) , T-Ville, //RP\\ ot @Mort3mer\\\\, BROOKLYN, NYC, åÊ(?Û¢`?Û¢å«)??, New York 2099, Halifax, NS, Canada, UK,singer,songwriter,?2 act, kediri,,jawa timur, MI - CA, Central Florida, CT, USA, www.twitch.tv/PKSparkxx, statesboro/vidalia, New Jersey, usually, Haveli, Maharashtra, Slateport City, Hoenn, jayankondacholapuram.tamilnadu, Denver Colorado. Fun Times, Not Of This World, ohio, Proud @BuckMasonUSA supporter!, Ely, Cambridgeshire, GrC Founder, 8,000 Subscribers, Beirut/Toronto, Regalo Island, california | oregon | peru |, N. California USA, Multinational *****, rural ohio (fuck), Vermont, USA, Hawthorne, NE, ??? ?????????????, ( ?å¡ ?? ?å¡), , Kernow, St. Louis, Holly, MI, Somewhere between here & there, CHICAGO, Frostburg, Canterbury kent, The Sun's Corona, 140920-21 & 150718-19 BEIJING, Harbour Heights, FL, Sheff/Bangor/Salamanca/Madrid, Stamford & Cork (& Shropshire), #KaumElite;#F?VOR;#SMOFC, Richardson TX, London, Sydney, Internet, Where I Need To Be, Here, unless there.  , NEPA/570, pettyville, usa, Phila., brooklyn, NYC, Atlanta - FAU class of '18, Bristol, England, Houston, Twitterville, Eastern Iowa, Fort Walton Beach, FL, Toronto, Bob-Lo, Miami Beach, planet earth, nap central, Olathe, KS, Madrid, Hartford, Connecticut, New Jersey , Cedar Island, Clinton CT 06413, West Vancouver, B.C., Tucson, AZ, Get our App, Vail Valley, Amsterdam | San Francisco, Ashland, Oregon, Riverside, California., Around the world, Lancaster California, ?? Cloud Mafia ??, Eddyville, Oregon 97343, Galveston, Texas, Palm Beach County, FL, Georgia ? Tennessee, Gettysburg, PA, Florida USA, Hermitage, PA, Jakarta, Indonesia, calgary,ab, Newton, NJ 07860, she/her/your majesty/empress, LYNBROOK, Argus Industries \\m/666\\m/, Friendswood, TX, Sugar Land, TX, (a) property of the universe, Home is where we park it!, Webster, TX, Maracay y Nirgua, Venezuela, North Cack/919, Scottsdale, AZ, Victoria, Canada, FILM OUT LATE 2015, Miami,Fla, santo domingo, Worldwide - Global, Suva, Fiji Islands., Americas Newsroom, Yogya Berhati Nyaman, Fredericksburg, Virginia, Wherever I'm needed, Charlotte , Sale, England, Newcastle, England , Kashmir!, in my head, Rutherfordton, NC, Lake Highlands, Charlotte, N.C., iPhone: 33.104393,-96.628624, KADUNA, NIGERIA, Shady Pines , Wales, United Kingdom,  Alex/Mika/Leo|18|he/she/they, ?Gangsta OC / MV RP; 18+.?, Earth: Senseless nonsense, Not Steven Yeun / AMC., cody, austin follows ?*?, moss chamber b, 1/10 Taron squad, Argentina,  ?currently writing a book?, Lebanon, Tennessee, Pratt-on-Wye, Somerset, UK, Atlanta, Georgia, SF Bay Area, California / Greater Phoenix, AZ, Alabama, USA, Primum non nocere, Gwersyllt, Wales, Greenville, Greenville, S.C., Innsmouth, Mass., 709?, Norwich, Canada BC, Plano, IL, scumbernauld, khanna, Bangkok, Punjab, No ID, No VOTE!!!, Maharashtra, New Delhi,India, Xi'an, China, Robin Hood's County , Milwaukee County, Click the link below, okay , probably not home, 6, At your back, Livingston, MT,   Glasgow , Denton, Texas, TN, #NewcastleuponTyne #UK, Vancouver, Canada, London , Lincoln\n",
            "\n",
            "Total number of unique locations: 3342\n"
          ]
        }
      ]
    },
    {
      "cell_type": "code",
      "source": [
        "df = df.drop(['location'],axis=1)"
      ],
      "metadata": {
        "id": "B9LCLX6_lt5s"
      },
      "execution_count": 14,
      "outputs": []
    },
    {
      "cell_type": "code",
      "source": [
        "# Drop rows where 'keyword' column has NaN values\n",
        "df = df.dropna(subset=['keyword'])"
      ],
      "metadata": {
        "id": "s2BkqALtc3tU"
      },
      "execution_count": 15,
      "outputs": []
    },
    {
      "cell_type": "code",
      "source": [
        "# Check duplicate rows in dataset\n",
        "df = df.drop_duplicates()\n",
        "# Print the number of records in the DataFrame\n",
        "print(\"The given dataset has\", df.shape[0], \"registers and\", df.shape[1], \"columns.\")"
      ],
      "metadata": {
        "colab": {
          "base_uri": "https://localhost:8080/"
        },
        "id": "-5WetphX_ag8",
        "outputId": "6b392579-74ff-4046-8e7d-53124f037462"
      },
      "execution_count": 16,
      "outputs": [
        {
          "output_type": "stream",
          "name": "stdout",
          "text": [
            "The given dataset has 6940 registers and 3 columns.\n"
          ]
        }
      ]
    },
    {
      "cell_type": "markdown",
      "source": [
        "**Observaciones 💡 -->**"
      ],
      "metadata": {
        "id": "3PWohK8wjado"
      }
    },
    {
      "cell_type": "markdown",
      "source": [
        "> - Primero eliminaremos la columna `id`, ya que no aporta información significativa al conjunto de datos. Dado que cada registro corresponde a una observación única, esta columna no contribuye a la variabilidad o al análisis. Al eliminarla, reducimos la dimensionalidad, lo que puede mejorar la eficiencia de nuestro algoritmo y simplificar la interpretación posterior de este."
      ],
      "metadata": {
        "id": "ceMyJ4FXja_c"
      }
    },
    {
      "cell_type": "markdown",
      "source": [
        "> - Continuamos el preprocesamiento con dos pasos cruciales para optimizar el análisis de texto: la aplicación de un stemmer y la eliminación de stopwords (o palabras vacías)."
      ],
      "metadata": {
        "id": "CJmfht5QYxPI"
      }
    },
    {
      "cell_type": "markdown",
      "source": [
        "\n",
        "> - Continúa el preprocesamiento con la realización de varias transformaciones para limpiar y estandarizar el texto en la columna text. Primero, convertimos todas las entradas a cadenas de texto para asegurar la consistencia en el tipo de dato. A continuación, eliminamos URLs, que suelen introducir ruido sin aportar valor al análisis. También convertimos el texto a minúsculas y eliminamos los espacios en blanco al inicio y al final de las cadenas para mantener uniformidad. Luego, removemos caracteres especiales y signos de puntuación, dejando solo letras, números y espacios, lo que facilita el análisis posterior. Además, eliminamos espacios extra y normalizamos el texto quitando acentos.\n",
        "\n",
        "> - La columna location presenta una cantidad considerable de datos faltantes, aproximadamente un 35% de las entradas son nulas. Además, estas ausencias no son uniformes, ya que algunas se representan con símbolos como '???' o contienen caracteres especiales que complican aún más su interpretación. Esta falta de consistencia en los datos, sumada al hecho de que la variable de ubicación podría introducir sesgos significativos en el modelo, nos lleva a concluir que es mejor eliminar esta columna.\n",
        "\n",
        "> - Seguidamente se realiza imputaciones en la columna `keyword` al eliminar las entradas nulas, esto se justifica con el hecho de que estas entradas representan únicamente alrededor de un 0.9% de nuestros datos.\n",
        "\n",
        "> - Como último paso del preprocesamiento, filtramos los valores duplicados en el conjunto de datos. Al eliminar duplicados, aseguramos que cada registro sea único, lo que mejora la integridad de los datos y optimiza la precisión del modelo al trabajar con un conjunto no redundante."
      ],
      "metadata": {
        "id": "KImIzJY4Y0kZ"
      }
    },
    {
      "cell_type": "markdown",
      "source": [
        "**Nota:**\n",
        "\n",
        "  1.   El **stemmer** reduce las palabras a su raíz o forma básica, lo que permite agrupar diferentes variaciones de una misma palabra bajo una única representación. Esto no solo disminuye la dimensionalidad del conjunto de datos haciendo que sea más fácil procesar este, sino que también mejora la capacidad de los algoritmos para identificar patrones relevantes en el texto. [[Referencia]](https://www.geeksforgeeks.org/introduction-to-stemming/)\n",
        "\n",
        "  2.   Por otro lado, la eliminación de **stopwords** filtra palabras comunes que, aunque frecuentes, aportan poco valor semántico al análisis, como \"y\", \"el\", \"en\", entre otras. Al excluir estas palabras, se enfoca el modelo en términos más significativos, lo que puede resultar en una mejora notable en la precisión y eficiencia del análisis textual. Sin embargo, el beneficio más grande es la reducción de dimensionalidad, permitiendo que el entrenamiento sea más rápido. [[Referencia]](https://towardsdatascience.com/text-pre-processing-stop-words-removal-using-different-libraries-f20bac19929a)"
      ],
      "metadata": {
        "id": "TWLvGawUY-SI"
      }
    },
    {
      "cell_type": "markdown",
      "source": [
        "#### **(2) Exploración de los Datos**"
      ],
      "metadata": {
        "id": "pH32JTVm_U6l"
      }
    },
    {
      "cell_type": "code",
      "source": [
        "# Calculate the length of text entries in the 'text' column.\n",
        "length = df[\"text\"].apply(len)\n",
        "# Display descriptive statistics of text lengths.\n",
        "print(\"Training Set: Text Length Statistics\")\n",
        "print(length.describe())"
      ],
      "metadata": {
        "colab": {
          "base_uri": "https://localhost:8080/"
        },
        "id": "xJEpH9RKwC_q",
        "outputId": "952010f8-ee65-4334-ee4a-65df6b71b5dd"
      },
      "execution_count": 17,
      "outputs": [
        {
          "output_type": "stream",
          "name": "stdout",
          "text": [
            "Training Set: Text Length Statistics\n",
            "count    6940.000000\n",
            "mean       58.801729\n",
            "std        22.872899\n",
            "min         4.000000\n",
            "25%        42.000000\n",
            "50%        60.000000\n",
            "75%        76.000000\n",
            "max       127.000000\n",
            "Name: text, dtype: float64\n"
          ]
        }
      ]
    },
    {
      "cell_type": "markdown",
      "source": [
        "**Observaciones 💡 -->**"
      ],
      "metadata": {
        "id": "4yXpT2HwlYkL"
      }
    },
    {
      "cell_type": "markdown",
      "source": [
        "> - Este pequeño análisis de la longitud de los textos en el conjunto de datos nos permite descubrir varias características interesantes. Con un total de 7,001 registros, la longitud promedio de los textos es de aproximadamente 59 caracteres, lo que indica que la mayoría de las entradas son relativamente cortas. La desviación estándar es de aproximadamente 23 caracteres, lo que sugiere una variabilidad moderada en la longitud de los textos.\n",
        "\n",
        "> - El rango de las longitudes varía significativamente, desde un mínimo de 3 caracteres hasta un máximo de 127 caracteres. El 50% de los textos tienen una longitud de 60 caracteres o menos, con el 25% de los textos por debajo de 41 caracteres y el 75% por debajo de 76 caracteres. Por ende, aunque la mayoría de los textos tienen una longitud similar, hay una presencia de textos mucho más cortos o más largos."
      ],
      "metadata": {
        "id": "4aoFOx6dlZZ8"
      }
    },
    {
      "cell_type": "code",
      "source": [
        "# See what are the 10 most frequent values for each of the dataframe columns\n",
        "for column in df.columns:\n",
        "    frequency_values = df[column].value_counts().head(10)\n",
        "    print(\"Top 10 most frequent values for column '{}':\".format(column))\n",
        "    for index, (value, frequency) in enumerate(frequency_values.items(), start=1):\n",
        "        print(\"{:<5} {:<30} {:<10}\".format(index, value, frequency))\n",
        "    print(\"\\n===============================================\")"
      ],
      "metadata": {
        "colab": {
          "base_uri": "https://localhost:8080/"
        },
        "id": "6LSx7c38-BmL",
        "outputId": "861d9684-68ea-4990-ce12-6616acc40be8"
      },
      "execution_count": 18,
      "outputs": [
        {
          "output_type": "stream",
          "name": "stdout",
          "text": [
            "Top 10 most frequent values for column 'keyword':\n",
            "1     fatalities                     45        \n",
            "2     deluge                         42        \n",
            "3     armageddon                     42        \n",
            "4     damage                         41        \n",
            "5     harm                           41        \n",
            "6     evacuate                       40        \n",
            "7     fear                           40        \n",
            "8     body%20bags                    40        \n",
            "9     twister                        40        \n",
            "10    siren                          40        \n",
            "\n",
            "===============================================\n",
            "Top 10 most frequent values for column 'text':\n",
            "1     angri woman openli accus nema steal relief materi meant idp angri intern displac wom 2         \n",
            "2     cindi noonancindynoonanheartbreak baltimor riot yahistor undergroundrailraod 2         \n",
            "3     feel like sink low selfimag take quiz 2         \n",
            "4     horribl sink feel youûªv home phone realis 3g whole time 2         \n",
            "5     break obama offici gave muslim terrorist weapon use texa attack 2         \n",
            "6     trafford centr film fan angri odeon cinema evacu follow fals fire alarm 2         \n",
            "7     new evacu order 25 home danger hwi 8 fire near roosevelt wash koin6new 2         \n",
            "8     drunk meal 101 cook your total obliter 2         \n",
            "9     wacko like michelebachman predict world soon obliter burn firey inferno cant accept globalwarm hello 2         \n",
            "10    choke hazard prompt recal kraft chees singl 2         \n",
            "\n",
            "===============================================\n",
            "Top 10 most frequent values for column 'target':\n",
            "1     0                              4105      \n",
            "2     1                              2835      \n",
            "\n",
            "===============================================\n"
          ]
        }
      ]
    },
    {
      "cell_type": "markdown",
      "source": [
        "**Observaciones 💡 -->**"
      ],
      "metadata": {
        "id": "EFP8XPElbo1F"
      }
    },
    {
      "cell_type": "markdown",
      "source": [
        "> - Como es posible observar, nuestras tablas de frecuencia muestran que el conjunto de datos está desbalanceado en términos de la variable 'target': el **valor 0** (que indica la ausencia de un desastre) aparece con mucha más frecuencia (4105 casos) que el **valor 1** (que indica la presencia de un desastre) con 2835 casos. Este desbalance podría afectar el rendimiento de nuestro modelo pero primero evaluaremos su desempeño antes de tomar decisiones.\n",
        "\n",
        "> -  Para la columna keyword, esta simple tabla de frecuencia no nos dice lo suficiente así que haremos un análisis más profundo."
      ],
      "metadata": {
        "id": "kjjDvk7Rbqmc"
      }
    },
    {
      "cell_type": "code",
      "source": [
        "# Pairing 0's with their most frequent keywords\n",
        "target_0_keywords = df[df['target'] == 0]['keyword'].value_counts().head(10)\n",
        "print(\"Top 10 most frequent keywords for target '0':\")\n",
        "for index, (keyword, frequency) in enumerate(target_0_keywords.items(), start=1):\n",
        "    print(f\"{index:<5} {keyword:<30} {frequency:<10}\")\n",
        "print(\"\\n===============================================\")\n",
        "\n",
        "# Pairing 1's with their most frequent keywords\n",
        "target_1_keywords = df[df['target'] == 1]['keyword'].value_counts().head(10)\n",
        "print(\"Top 10 most frequent keywords for target '1':\")\n",
        "for index, (keyword, frequency) in enumerate(target_1_keywords.items(), start=1):\n",
        "    print(f\"{index:<5} {keyword:<30} {frequency:<10}\")"
      ],
      "metadata": {
        "colab": {
          "base_uri": "https://localhost:8080/"
        },
        "id": "yrH-1AupaTFv",
        "outputId": "d2e87bd4-55cc-4a48-dc05-c2e6db3a8151"
      },
      "execution_count": 21,
      "outputs": [
        {
          "output_type": "stream",
          "name": "stdout",
          "text": [
            "Top 10 most frequent keywords for target '0':\n",
            "1     body%20bags                    39        \n",
            "2     harm                           37        \n",
            "3     armageddon                     37        \n",
            "4     deluge                         36        \n",
            "5     ruin                           36        \n",
            "6     wrecked                        36        \n",
            "7     twister                        35        \n",
            "8     fear                           35        \n",
            "9     siren                          35        \n",
            "10    panic                          34        \n",
            "\n",
            "===============================================\n",
            "Top 10 most frequent keywords for target '1':\n",
            "1     evacuated                      31        \n",
            "2     debris                         31        \n",
            "3     earthquake                     30        \n",
            "4     derailment                     29        \n",
            "5     wildfire                       29        \n",
            "6     nuclear%20disaster             28        \n",
            "7     suicide%20bombing              28        \n",
            "8     evacuation                     28        \n",
            "9     buildings%20on%20fire          27        \n",
            "10    mass%20murder                  27        \n"
          ]
        }
      ]
    },
    {
      "cell_type": "markdown",
      "source": [
        "**Observaciones 💡 -->**"
      ],
      "metadata": {
        "id": "5JGCKvGKhPPs"
      }
    },
    {
      "cell_type": "markdown",
      "source": [
        "> - Se evidencia que para el target 0, los términos más frecuentes como \"body bags\" \"harm\" y \"armageddon\" están relacionados con eventos graves o de alta magnitud, pero en el contexto de la ausencia de un desastre, estos podrían estar mal clasificados o reflejar un contexto de preocupación general. Por otro lado, para el target 1, palabras como \"evacuated\" \"debris\" y \"earthquake\" se relacionan claramente con eventos de emergencia reales."
      ],
      "metadata": {
        "id": "VwHBEF3ihP_O"
      }
    }
  ]
}